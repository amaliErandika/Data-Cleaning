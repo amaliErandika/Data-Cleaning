{
  "nbformat": 4,
  "nbformat_minor": 0,
  "metadata": {
    "colab": {
      "provenance": [],
      "authorship_tag": "ABX9TyP57VkFjRzqPFBp/p6i/Ovz",
      "include_colab_link": true
    },
    "kernelspec": {
      "name": "python3",
      "display_name": "Python 3"
    },
    "language_info": {
      "name": "python"
    }
  },
  "cells": [
    {
      "cell_type": "markdown",
      "metadata": {
        "id": "view-in-github",
        "colab_type": "text"
      },
      "source": [
        "<a href=\"https://colab.research.google.com/github/amaliErandika/Data-Cleaning/blob/main/data_cleaning_process.ipynb\" target=\"_parent\"><img src=\"https://colab.research.google.com/assets/colab-badge.svg\" alt=\"Open In Colab\"/></a>"
      ]
    },
    {
      "cell_type": "markdown",
      "source": [
        "**Phase 1: Data Exploration and Assessment**"
      ],
      "metadata": {
        "id": "G1hFwhxctmEv"
      }
    },
    {
      "cell_type": "code",
      "execution_count": null,
      "metadata": {
        "id": "_BYBaotKglb3"
      },
      "outputs": [],
      "source": [
        "import pandas as pd\n",
        "import numpy as np\n",
        "import matplotlib.pyplot as plt\n",
        "import seaborn as sns\n",
        "from datetime import datetime\n",
        "import warnings\n",
        "warnings.filterwarnings('ignore')"
      ]
    },
    {
      "cell_type": "markdown",
      "source": [
        "**Task 1.1: Initial Data Inspection**"
      ],
      "metadata": {
        "id": "GJ5BHJGclz8R"
      }
    },
    {
      "cell_type": "code",
      "source": [
        "df=pd.read_csv('/content/hotel_bookings.csv') #load the CSV file\n",
        "print(df.head())"
      ],
      "metadata": {
        "colab": {
          "base_uri": "https://localhost:8080/"
        },
        "id": "uWlRitKahx9B",
        "outputId": "7b696e7a-78d8-4447-c657-e208d91fe641"
      },
      "execution_count": null,
      "outputs": [
        {
          "output_type": "stream",
          "name": "stdout",
          "text": [
            "          hotel  is_canceled  lead_time  arrival_date_year arrival_date_month  \\\n",
            "0  Resort Hotel            0        342               2015               July   \n",
            "1  Resort Hotel            0        737               2015               July   \n",
            "2  Resort Hotel            0          7               2015               July   \n",
            "3  Resort Hotel            0         13               2015               July   \n",
            "4  Resort Hotel            0         14               2015               July   \n",
            "\n",
            "   arrival_date_week_number  arrival_date_day_of_month  \\\n",
            "0                        27                          1   \n",
            "1                        27                          1   \n",
            "2                        27                          1   \n",
            "3                        27                          1   \n",
            "4                        27                          1   \n",
            "\n",
            "   stays_in_weekend_nights  stays_in_week_nights  adults  ...  deposit_type  \\\n",
            "0                        0                     0       2  ...    No Deposit   \n",
            "1                        0                     0       2  ...    No Deposit   \n",
            "2                        0                     1       1  ...    No Deposit   \n",
            "3                        0                     1       1  ...    No Deposit   \n",
            "4                        0                     2       2  ...    No Deposit   \n",
            "\n",
            "   agent company days_in_waiting_list customer_type   adr  \\\n",
            "0    NaN     NaN                    0     Transient   0.0   \n",
            "1    NaN     NaN                    0     Transient   0.0   \n",
            "2    NaN     NaN                    0     Transient  75.0   \n",
            "3  304.0     NaN                    0     Transient  75.0   \n",
            "4  240.0     NaN                    0     Transient  98.0   \n",
            "\n",
            "   required_car_parking_spaces  total_of_special_requests  reservation_status  \\\n",
            "0                            0                          0           Check-Out   \n",
            "1                            0                          0           Check-Out   \n",
            "2                            0                          0           Check-Out   \n",
            "3                            0                          0           Check-Out   \n",
            "4                            0                          1           Check-Out   \n",
            "\n",
            "  reservation_status_date  \n",
            "0              2015-07-01  \n",
            "1              2015-07-01  \n",
            "2              2015-07-02  \n",
            "3              2015-07-02  \n",
            "4              2015-07-03  \n",
            "\n",
            "[5 rows x 32 columns]\n"
          ]
        }
      ]
    },
    {
      "cell_type": "code",
      "source": [
        "print(\"Dataset Shape:\",df.shape)#Shape of the dataset"
      ],
      "metadata": {
        "colab": {
          "base_uri": "https://localhost:8080/"
        },
        "id": "5oGwKcUxirhB",
        "outputId": "7d6c28d3-01b4-480a-e428-174f9cc9c6df"
      },
      "execution_count": null,
      "outputs": [
        {
          "output_type": "stream",
          "name": "stdout",
          "text": [
            "Dataset Shape: (119390, 32)\n"
          ]
        }
      ]
    },
    {
      "cell_type": "code",
      "source": [
        "print(\"Data types of each column\", df.dtypes)#Data types of each column"
      ],
      "metadata": {
        "colab": {
          "base_uri": "https://localhost:8080/"
        },
        "id": "yH4Hi7Q_jRkH",
        "outputId": "40267bc5-0777-4f18-c400-831df50e2807"
      },
      "execution_count": null,
      "outputs": [
        {
          "output_type": "stream",
          "name": "stdout",
          "text": [
            "Data types of each column hotel                              object\n",
            "is_canceled                         int64\n",
            "lead_time                           int64\n",
            "arrival_date_year                   int64\n",
            "arrival_date_month                 object\n",
            "arrival_date_week_number            int64\n",
            "arrival_date_day_of_month           int64\n",
            "stays_in_weekend_nights             int64\n",
            "stays_in_week_nights                int64\n",
            "adults                              int64\n",
            "children                          float64\n",
            "babies                              int64\n",
            "meal                               object\n",
            "country                            object\n",
            "market_segment                     object\n",
            "distribution_channel               object\n",
            "is_repeated_guest                   int64\n",
            "previous_cancellations              int64\n",
            "previous_bookings_not_canceled      int64\n",
            "reserved_room_type                 object\n",
            "assigned_room_type                 object\n",
            "booking_changes                     int64\n",
            "deposit_type                       object\n",
            "agent                             float64\n",
            "company                           float64\n",
            "days_in_waiting_list                int64\n",
            "customer_type                      object\n",
            "adr                               float64\n",
            "required_car_parking_spaces         int64\n",
            "total_of_special_requests           int64\n",
            "reservation_status                 object\n",
            "reservation_status_date            object\n",
            "dtype: object\n"
          ]
        }
      ]
    },
    {
      "cell_type": "code",
      "source": [
        "print(\"First 5 rows:\",df.head())#First 5 rows"
      ],
      "metadata": {
        "colab": {
          "base_uri": "https://localhost:8080/"
        },
        "id": "6qyFQiTXjhZq",
        "outputId": "2a77ce25-cbe7-45a3-8fbd-661a31f7b450"
      },
      "execution_count": null,
      "outputs": [
        {
          "output_type": "stream",
          "name": "stdout",
          "text": [
            "First 5 rows:           hotel  is_canceled  lead_time  arrival_date_year arrival_date_month  \\\n",
            "0  Resort Hotel            0        342               2015               July   \n",
            "1  Resort Hotel            0        737               2015               July   \n",
            "2  Resort Hotel            0          7               2015               July   \n",
            "3  Resort Hotel            0         13               2015               July   \n",
            "4  Resort Hotel            0         14               2015               July   \n",
            "\n",
            "   arrival_date_week_number  arrival_date_day_of_month  \\\n",
            "0                        27                          1   \n",
            "1                        27                          1   \n",
            "2                        27                          1   \n",
            "3                        27                          1   \n",
            "4                        27                          1   \n",
            "\n",
            "   stays_in_weekend_nights  stays_in_week_nights  adults  ...  deposit_type  \\\n",
            "0                        0                     0       2  ...    No Deposit   \n",
            "1                        0                     0       2  ...    No Deposit   \n",
            "2                        0                     1       1  ...    No Deposit   \n",
            "3                        0                     1       1  ...    No Deposit   \n",
            "4                        0                     2       2  ...    No Deposit   \n",
            "\n",
            "   agent company days_in_waiting_list customer_type   adr  \\\n",
            "0    NaN     NaN                    0     Transient   0.0   \n",
            "1    NaN     NaN                    0     Transient   0.0   \n",
            "2    NaN     NaN                    0     Transient  75.0   \n",
            "3  304.0     NaN                    0     Transient  75.0   \n",
            "4  240.0     NaN                    0     Transient  98.0   \n",
            "\n",
            "   required_car_parking_spaces  total_of_special_requests  reservation_status  \\\n",
            "0                            0                          0           Check-Out   \n",
            "1                            0                          0           Check-Out   \n",
            "2                            0                          0           Check-Out   \n",
            "3                            0                          0           Check-Out   \n",
            "4                            0                          1           Check-Out   \n",
            "\n",
            "  reservation_status_date  \n",
            "0              2015-07-01  \n",
            "1              2015-07-01  \n",
            "2              2015-07-02  \n",
            "3              2015-07-02  \n",
            "4              2015-07-03  \n",
            "\n",
            "[5 rows x 32 columns]\n"
          ]
        }
      ]
    },
    {
      "cell_type": "code",
      "source": [
        "print(\"Last 5 rows\", df.tail())#Last 5 rows"
      ],
      "metadata": {
        "colab": {
          "base_uri": "https://localhost:8080/"
        },
        "id": "EcuFGBdwj7p7",
        "outputId": "a5bb1a1c-29ef-4280-a45e-2b4945f83b18"
      },
      "execution_count": null,
      "outputs": [
        {
          "output_type": "stream",
          "name": "stdout",
          "text": [
            "Last 5 rows              hotel  is_canceled  lead_time  arrival_date_year  \\\n",
            "119385  City Hotel            0         23               2017   \n",
            "119386  City Hotel            0        102               2017   \n",
            "119387  City Hotel            0         34               2017   \n",
            "119388  City Hotel            0        109               2017   \n",
            "119389  City Hotel            0        205               2017   \n",
            "\n",
            "       arrival_date_month  arrival_date_week_number  \\\n",
            "119385             August                        35   \n",
            "119386             August                        35   \n",
            "119387             August                        35   \n",
            "119388             August                        35   \n",
            "119389             August                        35   \n",
            "\n",
            "        arrival_date_day_of_month  stays_in_weekend_nights  \\\n",
            "119385                         30                        2   \n",
            "119386                         31                        2   \n",
            "119387                         31                        2   \n",
            "119388                         31                        2   \n",
            "119389                         29                        2   \n",
            "\n",
            "        stays_in_week_nights  adults  ...  deposit_type  agent company  \\\n",
            "119385                     5       2  ...    No Deposit  394.0     NaN   \n",
            "119386                     5       3  ...    No Deposit    9.0     NaN   \n",
            "119387                     5       2  ...    No Deposit    9.0     NaN   \n",
            "119388                     5       2  ...    No Deposit   89.0     NaN   \n",
            "119389                     7       2  ...    No Deposit    9.0     NaN   \n",
            "\n",
            "       days_in_waiting_list customer_type     adr  \\\n",
            "119385                    0     Transient   96.14   \n",
            "119386                    0     Transient  225.43   \n",
            "119387                    0     Transient  157.71   \n",
            "119388                    0     Transient  104.40   \n",
            "119389                    0     Transient  151.20   \n",
            "\n",
            "        required_car_parking_spaces  total_of_special_requests  \\\n",
            "119385                            0                          0   \n",
            "119386                            0                          2   \n",
            "119387                            0                          4   \n",
            "119388                            0                          0   \n",
            "119389                            0                          2   \n",
            "\n",
            "        reservation_status reservation_status_date  \n",
            "119385           Check-Out              2017-09-06  \n",
            "119386           Check-Out              2017-09-07  \n",
            "119387           Check-Out              2017-09-07  \n",
            "119388           Check-Out              2017-09-07  \n",
            "119389           Check-Out              2017-09-07  \n",
            "\n",
            "[5 rows x 32 columns]\n"
          ]
        }
      ]
    },
    {
      "cell_type": "code",
      "source": [
        "print(\"Basic statistical summary: \", df.describe(include='all'))#Basic statistical summary"
      ],
      "metadata": {
        "colab": {
          "base_uri": "https://localhost:8080/"
        },
        "id": "HHOeT5iakImR",
        "outputId": "d499448b-c78c-4fbb-8b60-ef2e4e948acc"
      },
      "execution_count": null,
      "outputs": [
        {
          "output_type": "stream",
          "name": "stdout",
          "text": [
            "Basic statistical summary:               hotel    is_canceled      lead_time  arrival_date_year  \\\n",
            "count       119390  119390.000000  119390.000000      119390.000000   \n",
            "unique           2            NaN            NaN                NaN   \n",
            "top     City Hotel            NaN            NaN                NaN   \n",
            "freq         79330            NaN            NaN                NaN   \n",
            "mean           NaN       0.370416     104.011416        2016.156554   \n",
            "std            NaN       0.482918     106.863097           0.707476   \n",
            "min            NaN       0.000000       0.000000        2015.000000   \n",
            "25%            NaN       0.000000      18.000000        2016.000000   \n",
            "50%            NaN       0.000000      69.000000        2016.000000   \n",
            "75%            NaN       1.000000     160.000000        2017.000000   \n",
            "max            NaN       1.000000     737.000000        2017.000000   \n",
            "\n",
            "       arrival_date_month  arrival_date_week_number  \\\n",
            "count              119390             119390.000000   \n",
            "unique                 12                       NaN   \n",
            "top                August                       NaN   \n",
            "freq                13877                       NaN   \n",
            "mean                  NaN                 27.165173   \n",
            "std                   NaN                 13.605138   \n",
            "min                   NaN                  1.000000   \n",
            "25%                   NaN                 16.000000   \n",
            "50%                   NaN                 28.000000   \n",
            "75%                   NaN                 38.000000   \n",
            "max                   NaN                 53.000000   \n",
            "\n",
            "        arrival_date_day_of_month  stays_in_weekend_nights  \\\n",
            "count               119390.000000            119390.000000   \n",
            "unique                        NaN                      NaN   \n",
            "top                           NaN                      NaN   \n",
            "freq                          NaN                      NaN   \n",
            "mean                    15.798241                 0.927599   \n",
            "std                      8.780829                 0.998613   \n",
            "min                      1.000000                 0.000000   \n",
            "25%                      8.000000                 0.000000   \n",
            "50%                     16.000000                 1.000000   \n",
            "75%                     23.000000                 2.000000   \n",
            "max                     31.000000                19.000000   \n",
            "\n",
            "        stays_in_week_nights         adults  ...  deposit_type          agent  \\\n",
            "count          119390.000000  119390.000000  ...        119390  103050.000000   \n",
            "unique                   NaN            NaN  ...             3            NaN   \n",
            "top                      NaN            NaN  ...    No Deposit            NaN   \n",
            "freq                     NaN            NaN  ...        104641            NaN   \n",
            "mean                2.500302       1.856403  ...           NaN      86.693382   \n",
            "std                 1.908286       0.579261  ...           NaN     110.774548   \n",
            "min                 0.000000       0.000000  ...           NaN       1.000000   \n",
            "25%                 1.000000       2.000000  ...           NaN       9.000000   \n",
            "50%                 2.000000       2.000000  ...           NaN      14.000000   \n",
            "75%                 3.000000       2.000000  ...           NaN     229.000000   \n",
            "max                50.000000      55.000000  ...           NaN     535.000000   \n",
            "\n",
            "            company days_in_waiting_list customer_type            adr  \\\n",
            "count   6797.000000        119390.000000        119390  119390.000000   \n",
            "unique          NaN                  NaN             4            NaN   \n",
            "top             NaN                  NaN     Transient            NaN   \n",
            "freq            NaN                  NaN         89613            NaN   \n",
            "mean     189.266735             2.321149           NaN     101.831122   \n",
            "std      131.655015            17.594721           NaN      50.535790   \n",
            "min        6.000000             0.000000           NaN      -6.380000   \n",
            "25%       62.000000             0.000000           NaN      69.290000   \n",
            "50%      179.000000             0.000000           NaN      94.575000   \n",
            "75%      270.000000             0.000000           NaN     126.000000   \n",
            "max      543.000000           391.000000           NaN    5400.000000   \n",
            "\n",
            "        required_car_parking_spaces  total_of_special_requests  \\\n",
            "count                 119390.000000              119390.000000   \n",
            "unique                          NaN                        NaN   \n",
            "top                             NaN                        NaN   \n",
            "freq                            NaN                        NaN   \n",
            "mean                       0.062518                   0.571363   \n",
            "std                        0.245291                   0.792798   \n",
            "min                        0.000000                   0.000000   \n",
            "25%                        0.000000                   0.000000   \n",
            "50%                        0.000000                   0.000000   \n",
            "75%                        0.000000                   1.000000   \n",
            "max                        8.000000                   5.000000   \n",
            "\n",
            "        reservation_status reservation_status_date  \n",
            "count               119390                  119390  \n",
            "unique                   3                     926  \n",
            "top              Check-Out              2015-10-21  \n",
            "freq                 75166                    1461  \n",
            "mean                   NaN                     NaN  \n",
            "std                    NaN                     NaN  \n",
            "min                    NaN                     NaN  \n",
            "25%                    NaN                     NaN  \n",
            "50%                    NaN                     NaN  \n",
            "75%                    NaN                     NaN  \n",
            "max                    NaN                     NaN  \n",
            "\n",
            "[11 rows x 32 columns]\n"
          ]
        }
      ]
    },
    {
      "cell_type": "markdown",
      "source": [
        "**Task 1.2: Missing Value Analysis**"
      ],
      "metadata": {
        "id": "BIp1W6Rdl9EB"
      }
    },
    {
      "cell_type": "code",
      "source": [
        "#check for missing values\n",
        "print(\"All columns with missing values: \")\n",
        "missing_data = df.isnull().sum()\n",
        "#Calculate the percentage of missing values\n",
        "missing_precent = (missing_data / len(df)) *100\n",
        "missing_summary = pd.DataFrame({\n",
        "    'Missing_Count' : missing_data,\n",
        "    'missing_precentage' : missing_precent\n",
        "}).sort_values('Missing_Count', ascending=False)\n",
        "print(missing_summary[missing_summary['Missing_Count']>0])"
      ],
      "metadata": {
        "colab": {
          "base_uri": "https://localhost:8080/"
        },
        "id": "eacKQlL7mAsk",
        "outputId": "c9d1c2f5-b6c7-4036-e2ae-c6f71a75d779"
      },
      "execution_count": null,
      "outputs": [
        {
          "output_type": "stream",
          "name": "stdout",
          "text": [
            "All columns with missing values: \n",
            "          Missing_Count  missing_precentage\n",
            "company          112593           94.306893\n",
            "agent             16340           13.686238\n",
            "country             488            0.408744\n",
            "children              4            0.003350\n"
          ]
        }
      ]
    },
    {
      "cell_type": "code",
      "source": [
        "#Visualise missing value patterns using a heatmap\n",
        "plt.figure(figsize=(10,6))\n",
        "sns.heatmap(df.isnull(), cbar=True, yticklabels=False, cmap='viridis')\n",
        "plt.title('Missing Data Hetmap')\n",
        "plt.show()"
      ],
      "metadata": {
        "colab": {
          "base_uri": "https://localhost:8080/",
          "height": 759
        },
        "id": "81ga5pWLnpYB",
        "outputId": "c3efac77-c025-4c60-c850-6869de4e489b"
      },
      "execution_count": null,
      "outputs": [
        {
          "output_type": "display_data",
          "data": {
            "text/plain": [
              "<Figure size 1000x600 with 2 Axes>"
            ],
            "image/png": "[encoded data removed]"
          },
          "metadata": {}
        }
      ]
    },
    {
      "cell_type": "markdown",
      "source": [
        "**Task 1.3: Data Quality Assessment**"
      ],
      "metadata": {
        "id": "viNw_D8Mrcpu"
      }
    },
    {
      "cell_type": "code",
      "source": [
        "#Count duplicate rows\n",
        "duplicate_count = df.duplicated().sum()\n",
        "print(f\"Number of duplicate rows: {duplicate_count}\")"
      ],
      "metadata": {
        "colab": {
          "base_uri": "https://localhost:8080/"
        },
        "id": "qFWMfkEGrdll",
        "outputId": "ccba1e0e-bbd8-450c-cdc8-c224baa8ec34"
      },
      "execution_count": null,
      "outputs": [
        {
          "output_type": "stream",
          "name": "stdout",
          "text": [
            "Number of duplicate rows: 31994\n"
          ]
        }
      ]
    },
    {
      "cell_type": "code",
      "source": [
        "#Identify potential outliers in numerical columns\n",
        "#disply basic statistics\n",
        "df.describe()[['lead_time','stays_in_weekend_nights','stays_in_week_nights','adults','children','babies','adr']]\n"
      ],
      "metadata": {
        "colab": {
          "base_uri": "https://localhost:8080/",
          "height": 300
        },
        "id": "1wRc8uOatFXm",
        "outputId": "49ffb3b9-1738-4861-d429-9bf022611b77"
      },
      "execution_count": null,
      "outputs": [
        {
          "output_type": "execute_result",
          "data": {
            "text/plain": [
              "           lead_time  stays_in_weekend_nights  stays_in_week_nights  \\\n",
              "count  119390.000000            119390.000000         119390.000000   \n",
              "mean      104.011416                 0.927599              2.500302   \n",
              "std       106.863097                 0.998613              1.908286   \n",
              "min         0.000000                 0.000000              0.000000   \n",
              "25%        18.000000                 0.000000              1.000000   \n",
              "50%        69.000000                 1.000000              2.000000   \n",
              "75%       160.000000                 2.000000              3.000000   \n",
              "max       737.000000                19.000000             50.000000   \n",
              "\n",
              "              adults       children         babies            adr  \n",
              "count  119390.000000  119386.000000  119390.000000  119390.000000  \n",
              "mean        1.856403       0.103890       0.007949     101.831122  \n",
              "std         0.579261       0.398561       0.097436      50.535790  \n",
              "min         0.000000       0.000000       0.000000      -6.380000  \n",
              "25%         2.000000       0.000000       0.000000      69.290000  \n",
              "50%         2.000000       0.000000       0.000000      94.575000  \n",
              "75%         2.000000       0.000000       0.000000     126.000000  \n",
              "max        55.000000      10.000000      10.000000    5400.000000  "
            ],
            "text/html": [
              "\n",
              "  <div id=\"df-bb11f8e2-3f3b-4879-886a-4315bce064f9\" class=\"colab-df-container\">\n",
              "    <div>\n",
              "<style scoped>\n",
              "    .dataframe tbody tr th:only-of-type {\n",
              "        vertical-align: middle;\n",
              "    }\n",
              "\n",
              "    .dataframe tbody tr th {\n",
              "        vertical-align: top;\n",
              "    }\n",
              "\n",
              "    .dataframe thead th {\n",
              "        text-align: right;\n",
              "    }\n",
              "</style>\n",
              "<table border=\"1\" class=\"dataframe\">\n",
              "  <thead>\n",
              "    <tr style=\"text-align: right;\">\n",
              "      <th></th>\n",
              "      <th>lead_time</th>\n",
              "      <th>stays_in_weekend_nights</th>\n",
              "      <th>stays_in_week_nights</th>\n",
              "      <th>adults</th>\n",
              "      <th>children</th>\n",
              "      <th>babies</th>\n",
              "      <th>adr</th>\n",
              "    </tr>\n",
              "  </thead>\n",
              "  <tbody>\n",
              "    <tr>\n",
              "      <th>count</th>\n",
              "      <td>119390.000000</td>\n",
              "      <td>119390.000000</td>\n",
              "      <td>119390.000000</td>\n",
              "      <td>119390.000000</td>\n",
              "      <td>119386.000000</td>\n",
              "      <td>119390.000000</td>\n",
              "      <td>119390.000000</td>\n",
              "    </tr>\n",
              "    <tr>\n",
              "      <th>mean</th>\n",
              "      <td>104.011416</td>\n",
              "      <td>0.927599</td>\n",
              "      <td>2.500302</td>\n",
              "      <td>1.856403</td>\n",
              "      <td>0.103890</td>\n",
              "      <td>0.007949</td>\n",
              "      <td>101.831122</td>\n",
              "    </tr>\n",
              "    <tr>\n",
              "      <th>std</th>\n",
              "      <td>106.863097</td>\n",
              "      <td>0.998613</td>\n",
              "      <td>1.908286</td>\n",
              "      <td>0.579261</td>\n",
              "      <td>0.398561</td>\n",
              "      <td>0.097436</td>\n",
              "      <td>50.535790</td>\n",
              "    </tr>\n",
              "    <tr>\n",
              "      <th>min</th>\n",
              "      <td>0.000000</td>\n",
              "      <td>0.000000</td>\n",
              "      <td>0.000000</td>\n",
              "      <td>0.000000</td>\n",
              "      <td>0.000000</td>\n",
              "      <td>0.000000</td>\n",
              "      <td>-6.380000</td>\n",
              "    </tr>\n",
              "    <tr>\n",
              "      <th>25%</th>\n",
              "      <td>18.000000</td>\n",
              "      <td>0.000000</td>\n",
              "      <td>1.000000</td>\n",
              "      <td>2.000000</td>\n",
              "      <td>0.000000</td>\n",
              "      <td>0.000000</td>\n",
              "      <td>69.290000</td>\n",
              "    </tr>\n",
              "    <tr>\n",
              "      <th>50%</th>\n",
              "      <td>69.000000</td>\n",
              "      <td>1.000000</td>\n",
              "      <td>2.000000</td>\n",
              "      <td>2.000000</td>\n",
              "      <td>0.000000</td>\n",
              "      <td>0.000000</td>\n",
              "      <td>94.575000</td>\n",
              "    </tr>\n",
              "    <tr>\n",
              "      <th>75%</th>\n",
              "      <td>160.000000</td>\n",
              "      <td>2.000000</td>\n",
              "      <td>3.000000</td>\n",
              "      <td>2.000000</td>\n",
              "      <td>0.000000</td>\n",
              "      <td>0.000000</td>\n",
              "      <td>126.000000</td>\n",
              "    </tr>\n",
              "    <tr>\n",
              "      <th>max</th>\n",
              "      <td>737.000000</td>\n",
              "      <td>19.000000</td>\n",
              "      <td>50.000000</td>\n",
              "      <td>55.000000</td>\n",
              "      <td>10.000000</td>\n",
              "      <td>10.000000</td>\n",
              "      <td>5400.000000</td>\n",
              "    </tr>\n",
              "  </tbody>\n",
              "</table>\n",
              "</div>\n",
              "    <div class=\"colab-df-buttons\">\n",
              "\n",
              "  <div class=\"colab-df-container\">\n",
              "    <button class=\"colab-df-convert\" onclick=\"convertToInteractive('df-bb11f8e2-3f3b-4879-886a-4315bce064f9')\"\n",
              "            title=\"Convert this dataframe to an interactive table.\"\n",
              "            style=\"display:none;\">\n",
              "\n",
              "  <svg xmlns=\"http://www.w3.org/2000/svg\" height=\"24px\" viewBox=\"0 -960 960 960\">\n",
              "    <path d=\"M120-120v-720h720v720H120Zm60-500h600v-160H180v160Zm220 220h160v-160H400v160Zm0 220h160v-160H400v160ZM180-400h160v-160H180v160Zm440 0h160v-160H620v160ZM180-180h160v-160H180v160Zm440 0h160v-160H620v160Z\"/>\n",
              "  </svg>\n",
              "    </button>\n",
              "\n",
              "  <style>\n",
              "    .colab-df-container {\n",
              "      display:flex;\n",
              "      gap: 12px;\n",
              "    }\n",
              "\n",
              "    .colab-df-convert {\n",
              "      background-color: #E8F0FE;\n",
              "      border: none;\n",
              "      border-radius: 50%;\n",
              "      cursor: pointer;\n",
              "      display: none;\n",
              "      fill: #1967D2;\n",
              "      height: 32px;\n",
              "      padding: 0 0 0 0;\n",
              "      width: 32px;\n",
              "    }\n",
              "\n",
              "    .colab-df-convert:hover {\n",
              "      background-color: #E2EBFA;\n",
              "      box-shadow: 0px 1px 2px rgba(60, 64, 67, 0.3), 0px 1px 3px 1px rgba(60, 64, 67, 0.15);\n",
              "      fill: #174EA6;\n",
              "    }\n",
              "\n",
              "    .colab-df-buttons div {\n",
              "      margin-bottom: 4px;\n",
              "    }\n",
              "\n",
              "    [theme=dark] .colab-df-convert {\n",
              "      background-color: #3B4455;\n",
              "      fill: #D2E3FC;\n",
              "    }\n",
              "\n",
              "    [theme=dark] .colab-df-convert:hover {\n",
              "      background-color: #434B5C;\n",
              "      box-shadow: 0px 1px 3px 1px rgba(0, 0, 0, 0.15);\n",
              "      filter: drop-shadow(0px 1px 2px rgba(0, 0, 0, 0.3));\n",
              "      fill: #FFFFFF;\n",
              "    }\n",
              "  </style>\n",
              "\n",
              "    <script>\n",
              "      const buttonEl =\n",
              "        document.querySelector('#df-bb11f8e2-3f3b-4879-886a-4315bce064f9 button.colab-df-convert');\n",
              "      buttonEl.style.display =\n",
              "        google.colab.kernel.accessAllowed ? 'block' : 'none';\n",
              "\n",
              "      async function convertToInteractive(key) {\n",
              "        const element = document.querySelector('#df-bb11f8e2-3f3b-4879-886a-4315bce064f9');\n",
              "        const dataTable =\n",
              "          await google.colab.kernel.invokeFunction('convertToInteractive',\n",
              "                                                    [key], {});\n",
              "        if (!dataTable) return;\n",
              "\n",
              "        const docLinkHtml = 'Like what you see? Visit the ' +\n",
              "          '<a target=\"_blank\" href=https://colab.research.google.com/notebooks/data_table.ipynb>data table notebook</a>'\n",
              "          + ' to learn more about interactive tables.';\n",
              "        element.innerHTML = '';\n",
              "        dataTable['output_type'] = 'display_data';\n",
              "        await google.colab.output.renderOutput(dataTable, element);\n",
              "        const docLink = document.createElement('div');\n",
              "        docLink.innerHTML = docLinkHtml;\n",
              "        element.appendChild(docLink);\n",
              "      }\n",
              "    </script>\n",
              "  </div>\n",
              "\n",
              "\n",
              "    <div id=\"df-b5569d43-4fd4-494b-92dd-3b6596347208\">\n",
              "      <button class=\"colab-df-quickchart\" onclick=\"quickchart('df-b5569d43-4fd4-494b-92dd-3b6596347208')\"\n",
              "                title=\"Suggest charts\"\n",
              "                style=\"display:none;\">\n",
              "\n",
              "<svg xmlns=\"http://www.w3.org/2000/svg\" height=\"24px\"viewBox=\"0 0 24 24\"\n",
              "     width=\"24px\">\n",
              "    <g>\n",
              "        <path d=\"M19 3H5c-1.1 0-2 .9-2 2v14c0 1.1.9 2 2 2h14c1.1 0 2-.9 2-2V5c0-1.1-.9-2-2-2zM9 17H7v-7h2v7zm4 0h-2V7h2v10zm4 0h-2v-4h2v4z\"/>\n",
              "    </g>\n",
              "</svg>\n",
              "      </button>\n",
              "\n",
              "<style>\n",
              "  .colab-df-quickchart {\n",
              "      --bg-color: #E8F0FE;\n",
              "      --fill-color: #1967D2;\n",
              "      --hover-bg-color: #E2EBFA;\n",
              "      --hover-fill-color: #174EA6;\n",
              "      --disabled-fill-color: #AAA;\n",
              "      --disabled-bg-color: #DDD;\n",
              "  }\n",
              "\n",
              "  [theme=dark] .colab-df-quickchart {\n",
              "      --bg-color: #3B4455;\n",
              "      --fill-color: #D2E3FC;\n",
              "      --hover-bg-color: #434B5C;\n",
              "      --hover-fill-color: #FFFFFF;\n",
              "      --disabled-bg-color: #3B4455;\n",
              "      --disabled-fill-color: #666;\n",
              "  }\n",
              "\n",
              "  .colab-df-quickchart {\n",
              "    background-color: var(--bg-color);\n",
              "    border: none;\n",
              "    border-radius: 50%;\n",
              "    cursor: pointer;\n",
              "    display: none;\n",
              "    fill: var(--fill-color);\n",
              "    height: 32px;\n",
              "    padding: 0;\n",
              "    width: 32px;\n",
              "  }\n",
              "\n",
              "  .colab-df-quickchart:hover {\n",
              "    background-color: var(--hover-bg-color);\n",
              "    box-shadow: 0 1px 2px rgba(60, 64, 67, 0.3), 0 1px 3px 1px rgba(60, 64, 67, 0.15);\n",
              "    fill: var(--button-hover-fill-color);\n",
              "  }\n",
              "\n",
              "  .colab-df-quickchart-complete:disabled,\n",
              "  .colab-df-quickchart-complete:disabled:hover {\n",
              "    background-color: var(--disabled-bg-color);\n",
              "    fill: var(--disabled-fill-color);\n",
              "    box-shadow: none;\n",
              "  }\n",
              "\n",
              "  .colab-df-spinner {\n",
              "    border: 2px solid var(--fill-color);\n",
              "    border-color: transparent;\n",
              "    border-bottom-color: var(--fill-color);\n",
              "    animation:\n",
              "      spin 1s steps(1) infinite;\n",
              "  }\n",
              "\n",
              "  @keyframes spin {\n",
              "    0% {\n",
              "      border-color: transparent;\n",
              "      border-bottom-color: var(--fill-color);\n",
              "      border-left-color: var(--fill-color);\n",
              "    }\n",
              "    20% {\n",
              "      border-color: transparent;\n",
              "      border-left-color: var(--fill-color);\n",
              "      border-top-color: var(--fill-color);\n",
              "    }\n",
              "    30% {\n",
              "      border-color: transparent;\n",
              "      border-left-color: var(--fill-color);\n",
              "      border-top-color: var(--fill-color);\n",
              "      border-right-color: var(--fill-color);\n",
              "    }\n",
              "    40% {\n",
              "      border-color: transparent;\n",
              "      border-right-color: var(--fill-color);\n",
              "      border-top-color: var(--fill-color);\n",
              "    }\n",
              "    60% {\n",
              "      border-color: transparent;\n",
              "      border-right-color: var(--fill-color);\n",
              "    }\n",
              "    80% {\n",
              "      border-color: transparent;\n",
              "      border-right-color: var(--fill-color);\n",
              "      border-bottom-color: var(--fill-color);\n",
              "    }\n",
              "    90% {\n",
              "      border-color: transparent;\n",
              "      border-bottom-color: var(--fill-color);\n",
              "    }\n",
              "  }\n",
              "</style>\n",
              "\n",
              "      <script>\n",
              "        async function quickchart(key) {\n",
              "          const quickchartButtonEl =\n",
              "            document.querySelector('#' + key + ' button');\n",
              "          quickchartButtonEl.disabled = true;  // To prevent multiple clicks.\n",
              "          quickchartButtonEl.classList.add('colab-df-spinner');\n",
              "          try {\n",
              "            const charts = await google.colab.kernel.invokeFunction(\n",
              "                'suggestCharts', [key], {});\n",
              "          } catch (error) {\n",
              "            console.error('Error during call to suggestCharts:', error);\n",
              "          }\n",
              "          quickchartButtonEl.classList.remove('colab-df-spinner');\n",
              "          quickchartButtonEl.classList.add('colab-df-quickchart-complete');\n",
              "        }\n",
              "        (() => {\n",
              "          let quickchartButtonEl =\n",
              "            document.querySelector('#df-b5569d43-4fd4-494b-92dd-3b6596347208 button');\n",
              "          quickchartButtonEl.style.display =\n",
              "            google.colab.kernel.accessAllowed ? 'block' : 'none';\n",
              "        })();\n",
              "      </script>\n",
              "    </div>\n",
              "\n",
              "    </div>\n",
              "  </div>\n"
            ],
            "application/vnd.google.colaboratory.intrinsic+json": {
              "type": "dataframe",
              "summary": "{\n  \"name\": \"df\",\n  \"rows\": 8,\n  \"fields\": [\n    {\n      \"column\": \"lead_time\",\n      \"properties\": {\n        \"dtype\": \"number\",\n        \"std\": 42151.05353185858,\n        \"min\": 0.0,\n        \"max\": 119390.0,\n        \"num_unique_values\": 8,\n        \"samples\": [\n          104.01141636652986,\n          69.0,\n          119390.0\n        ],\n        \"semantic_type\": \"\",\n        \"description\": \"\"\n      }\n    },\n    {\n      \"column\": \"stays_in_weekend_nights\",\n      \"properties\": {\n        \"dtype\": \"number\",\n        \"std\": 42209.53133083881,\n        \"min\": 0.0,\n        \"max\": 119390.0,\n        \"num_unique_values\": 7,\n        \"samples\": [\n          119390.0,\n          0.9275986263506156,\n          2.0\n        ],\n        \"semantic_type\": \"\",\n        \"description\": \"\"\n      }\n    },\n    {\n      \"column\": \"stays_in_week_nights\",\n      \"properties\": {\n        \"dtype\": \"number\",\n        \"std\": 42207.69159751826,\n        \"min\": 0.0,\n        \"max\": 119390.0,\n        \"num_unique_values\": 8,\n        \"samples\": [\n          2.500301532791691,\n          2.0,\n          119390.0\n        ],\n        \"semantic_type\": \"\",\n        \"description\": \"\"\n      }\n    },\n    {\n      \"column\": \"adults\",\n      \"properties\": {\n        \"dtype\": \"number\",\n        \"std\": 42207.539491149604,\n        \"min\": 0.0,\n        \"max\": 119390.0,\n        \"num_unique_values\": 6,\n        \"samples\": [\n          119390.0,\n          1.8564033838679956,\n          55.0\n        ],\n        \"semantic_type\": \"\",\n        \"description\": \"\"\n      }\n    },\n    {\n      \"column\": \"children\",\n      \"properties\": {\n        \"dtype\": \"number\",\n        \"std\": 42208.79477831908,\n        \"min\": 0.0,\n        \"max\": 119386.0,\n        \"num_unique_values\": 5,\n        \"samples\": [\n          0.10388990333874994,\n          10.0,\n          0.398561444786706\n        ],\n        \"semantic_type\": \"\",\n        \"description\": \"\"\n      }\n    },\n    {\n      \"column\": \"babies\",\n      \"properties\": {\n        \"dtype\": \"number\",\n        \"std\": 42210.22904846642,\n        \"min\": 0.0,\n        \"max\": 119390.0,\n        \"num_unique_values\": 5,\n        \"samples\": [\n          0.007948739425412514,\n          10.0,\n          0.09743619130130332\n        ],\n        \"semantic_type\": \"\",\n        \"description\": \"\"\n      }\n    },\n    {\n      \"column\": \"adr\",\n      \"properties\": {\n        \"dtype\": \"number\",\n        \"std\": 41957.436659586354,\n        \"min\": -6.38,\n        \"max\": 119390.0,\n        \"num_unique_values\": 8,\n        \"samples\": [\n          101.83112153446686,\n          94.575,\n          119390.0\n        ],\n        \"semantic_type\": \"\",\n        \"description\": \"\"\n      }\n    }\n  ]\n}"
            }
          },
          "metadata": {},
          "execution_count": 18
        }
      ]
    },
    {
      "cell_type": "code",
      "source": [
        "#Examine categorical variables for inconsistencies\n",
        "categorical_cols = ['hotel', 'meal', 'market_segment', 'distribution_channel','reserved_room_type', 'assigned_room_type', 'customer_type', 'deposit_type']\n",
        "for col in categorical_cols:\n",
        "  print(f\"\\nUnique values in '{col}':\")\n",
        "  print(df[col].value_counts(dropna=False))"
      ],
      "metadata": {
        "colab": {
          "base_uri": "https://localhost:8080/"
        },
        "id": "-uE5-iFnIdSu",
        "outputId": "fc33df1c-efd3-4b01-fd88-166c67efebc8"
      },
      "execution_count": null,
      "outputs": [
        {
          "output_type": "stream",
          "name": "stdout",
          "text": [
            "\n",
            "Unique values in 'hotel':\n",
            "hotel\n",
            "City Hotel      79330\n",
            "Resort Hotel    40060\n",
            "Name: count, dtype: int64\n",
            "\n",
            "Unique values in 'meal':\n",
            "meal\n",
            "BB    92310\n",
            "HB    14463\n",
            "SC    11819\n",
            "FB      798\n",
            "Name: count, dtype: int64\n",
            "\n",
            "Unique values in 'market_segment':\n",
            "market_segment\n",
            "Online TA        56477\n",
            "Offline TA/TO    24219\n",
            "Groups           19811\n",
            "Direct           12606\n",
            "Corporate         5295\n",
            "Complementary      743\n",
            "Aviation           237\n",
            "Undefined            2\n",
            "Name: count, dtype: int64\n",
            "\n",
            "Unique values in 'distribution_channel':\n",
            "distribution_channel\n",
            "TA/TO        97870\n",
            "Direct       14645\n",
            "Corporate     6677\n",
            "GDS            193\n",
            "Undefined        5\n",
            "Name: count, dtype: int64\n",
            "\n",
            "Unique values in 'reserved_room_type':\n",
            "reserved_room_type\n",
            "A    85994\n",
            "D    19201\n",
            "E     6535\n",
            "F     2897\n",
            "G     2094\n",
            "B     1118\n",
            "C      932\n",
            "H      601\n",
            "P       12\n",
            "L        6\n",
            "Name: count, dtype: int64\n",
            "\n",
            "Unique values in 'assigned_room_type':\n",
            "assigned_room_type\n",
            "A    74053\n",
            "D    25322\n",
            "E     7806\n",
            "F     3751\n",
            "G     2553\n",
            "C     2375\n",
            "B     2163\n",
            "H      712\n",
            "I      363\n",
            "K      279\n",
            "P       12\n",
            "L        1\n",
            "Name: count, dtype: int64\n",
            "\n",
            "Unique values in 'customer_type':\n",
            "customer_type\n",
            "Transient          89613\n",
            "Transient-Party    25124\n",
            "Contract            4076\n",
            "Group                577\n",
            "Name: count, dtype: int64\n",
            "\n",
            "Unique values in 'deposit_type':\n",
            "deposit_type\n",
            "No Deposit    104641\n",
            "Non Refund     14587\n",
            "Refundable       162\n",
            "Name: count, dtype: int64\n"
          ]
        }
      ]
    },
    {
      "cell_type": "code",
      "source": [
        "#Check for impossible or illogical values\n",
        "#This is illogical, as there must be at least one guest.\n",
        "df['total_guests'] = df['adults'] + df['children'] + df['babies']\n",
        "invalid_guests = df[df['total_guests']==0]\n",
        "print(f\"Rows with 0 total guests: {len(invalid_guests)}\")\n",
        "display(invalid_guests.head())"
      ],
      "metadata": {
        "colab": {
          "base_uri": "https://localhost:8080/",
          "height": 359
        },
        "id": "DeMk9277JSR-",
        "outputId": "78cecff9-496c-462d-9538-99ea6d2fd3d6"
      },
      "execution_count": null,
      "outputs": [
        {
          "output_type": "stream",
          "name": "stdout",
          "text": [
            "Rows with 0 total guests: 180\n"
          ]
        },
        {
          "output_type": "display_data",
          "data": {
            "text/plain": [
              "             hotel  is_canceled  lead_time  arrival_date_year  \\\n",
              "2224  Resort Hotel            0          1               2015   \n",
              "2409  Resort Hotel            0          0               2015   \n",
              "3181  Resort Hotel            0         36               2015   \n",
              "3684  Resort Hotel            0        165               2015   \n",
              "3708  Resort Hotel            0        165               2015   \n",
              "\n",
              "     arrival_date_month  arrival_date_week_number  arrival_date_day_of_month  \\\n",
              "2224            October                        41                          6   \n",
              "2409            October                        42                         12   \n",
              "3181           November                        47                         20   \n",
              "3684           December                        53                         30   \n",
              "3708           December                        53                         30   \n",
              "\n",
              "      stays_in_weekend_nights  stays_in_week_nights  adults  ...  agent  \\\n",
              "2224                        0                     3       0  ...    NaN   \n",
              "2409                        0                     0       0  ...    NaN   \n",
              "3181                        1                     2       0  ...   38.0   \n",
              "3684                        1                     4       0  ...  308.0   \n",
              "3708                        2                     4       0  ...  308.0   \n",
              "\n",
              "      company days_in_waiting_list    customer_type  adr  \\\n",
              "2224    174.0                    0  Transient-Party  0.0   \n",
              "2409    174.0                    0        Transient  0.0   \n",
              "3181      NaN                    0  Transient-Party  0.0   \n",
              "3684      NaN                  122  Transient-Party  0.0   \n",
              "3708      NaN                  122  Transient-Party  0.0   \n",
              "\n",
              "     required_car_parking_spaces  total_of_special_requests  \\\n",
              "2224                           0                          0   \n",
              "2409                           0                          0   \n",
              "3181                           0                          0   \n",
              "3684                           0                          0   \n",
              "3708                           0                          0   \n",
              "\n",
              "      reservation_status  reservation_status_date total_guests  \n",
              "2224           Check-Out               2015-10-06          0.0  \n",
              "2409           Check-Out               2015-10-12          0.0  \n",
              "3181           Check-Out               2015-11-23          0.0  \n",
              "3684           Check-Out               2016-01-04          0.0  \n",
              "3708           Check-Out               2016-01-05          0.0  \n",
              "\n",
              "[5 rows x 33 columns]"
            ],
            "text/html": [
              "\n",
              "  <div id=\"df-b9406e9e-ffba-44ef-8c69-ea06391b7d37\" class=\"colab-df-container\">\n",
              "    <div>\n",
              "<style scoped>\n",
              "    .dataframe tbody tr th:only-of-type {\n",
              "        vertical-align: middle;\n",
              "    }\n",
              "\n",
              "    .dataframe tbody tr th {\n",
              "        vertical-align: top;\n",
              "    }\n",
              "\n",
              "    .dataframe thead th {\n",
              "        text-align: right;\n",
              "    }\n",
              "</style>\n",
              "<table border=\"1\" class=\"dataframe\">\n",
              "  <thead>\n",
              "    <tr style=\"text-align: right;\">\n",
              "      <th></th>\n",
              "      <th>hotel</th>\n",
              "      <th>is_canceled</th>\n",
              "      <th>lead_time</th>\n",
              "      <th>arrival_date_year</th>\n",
              "      <th>arrival_date_month</th>\n",
              "      <th>arrival_date_week_number</th>\n",
              "      <th>arrival_date_day_of_month</th>\n",
              "      <th>stays_in_weekend_nights</th>\n",
              "      <th>stays_in_week_nights</th>\n",
              "      <th>adults</th>\n",
              "      <th>...</th>\n",
              "      <th>agent</th>\n",
              "      <th>company</th>\n",
              "      <th>days_in_waiting_list</th>\n",
              "      <th>customer_type</th>\n",
              "      <th>adr</th>\n",
              "      <th>required_car_parking_spaces</th>\n",
              "      <th>total_of_special_requests</th>\n",
              "      <th>reservation_status</th>\n",
              "      <th>reservation_status_date</th>\n",
              "      <th>total_guests</th>\n",
              "    </tr>\n",
              "  </thead>\n",
              "  <tbody>\n",
              "    <tr>\n",
              "      <th>2224</th>\n",
              "      <td>Resort Hotel</td>\n",
              "      <td>0</td>\n",
              "      <td>1</td>\n",
              "      <td>2015</td>\n",
              "      <td>October</td>\n",
              "      <td>41</td>\n",
              "      <td>6</td>\n",
              "      <td>0</td>\n",
              "      <td>3</td>\n",
              "      <td>0</td>\n",
              "      <td>...</td>\n",
              "      <td>NaN</td>\n",
              "      <td>174.0</td>\n",
              "      <td>0</td>\n",
              "      <td>Transient-Party</td>\n",
              "      <td>0.0</td>\n",
              "      <td>0</td>\n",
              "      <td>0</td>\n",
              "      <td>Check-Out</td>\n",
              "      <td>2015-10-06</td>\n",
              "      <td>0.0</td>\n",
              "    </tr>\n",
              "    <tr>\n",
              "      <th>2409</th>\n",
              "      <td>Resort Hotel</td>\n",
              "      <td>0</td>\n",
              "      <td>0</td>\n",
              "      <td>2015</td>\n",
              "      <td>October</td>\n",
              "      <td>42</td>\n",
              "      <td>12</td>\n",
              "      <td>0</td>\n",
              "      <td>0</td>\n",
              "      <td>0</td>\n",
              "      <td>...</td>\n",
              "      <td>NaN</td>\n",
              "      <td>174.0</td>\n",
              "      <td>0</td>\n",
              "      <td>Transient</td>\n",
              "      <td>0.0</td>\n",
              "      <td>0</td>\n",
              "      <td>0</td>\n",
              "      <td>Check-Out</td>\n",
              "      <td>2015-10-12</td>\n",
              "      <td>0.0</td>\n",
              "    </tr>\n",
              "    <tr>\n",
              "      <th>3181</th>\n",
              "      <td>Resort Hotel</td>\n",
              "      <td>0</td>\n",
              "      <td>36</td>\n",
              "      <td>2015</td>\n",
              "      <td>November</td>\n",
              "      <td>47</td>\n",
              "      <td>20</td>\n",
              "      <td>1</td>\n",
              "      <td>2</td>\n",
              "      <td>0</td>\n",
              "      <td>...</td>\n",
              "      <td>38.0</td>\n",
              "      <td>NaN</td>\n",
              "      <td>0</td>\n",
              "      <td>Transient-Party</td>\n",
              "      <td>0.0</td>\n",
              "      <td>0</td>\n",
              "      <td>0</td>\n",
              "      <td>Check-Out</td>\n",
              "      <td>2015-11-23</td>\n",
              "      <td>0.0</td>\n",
              "    </tr>\n",
              "    <tr>\n",
              "      <th>3684</th>\n",
              "      <td>Resort Hotel</td>\n",
              "      <td>0</td>\n",
              "      <td>165</td>\n",
              "      <td>2015</td>\n",
              "      <td>December</td>\n",
              "      <td>53</td>\n",
              "      <td>30</td>\n",
              "      <td>1</td>\n",
              "      <td>4</td>\n",
              "      <td>0</td>\n",
              "      <td>...</td>\n",
              "      <td>308.0</td>\n",
              "      <td>NaN</td>\n",
              "      <td>122</td>\n",
              "      <td>Transient-Party</td>\n",
              "      <td>0.0</td>\n",
              "      <td>0</td>\n",
              "      <td>0</td>\n",
              "      <td>Check-Out</td>\n",
              "      <td>2016-01-04</td>\n",
              "      <td>0.0</td>\n",
              "    </tr>\n",
              "    <tr>\n",
              "      <th>3708</th>\n",
              "      <td>Resort Hotel</td>\n",
              "      <td>0</td>\n",
              "      <td>165</td>\n",
              "      <td>2015</td>\n",
              "      <td>December</td>\n",
              "      <td>53</td>\n",
              "      <td>30</td>\n",
              "      <td>2</td>\n",
              "      <td>4</td>\n",
              "      <td>0</td>\n",
              "      <td>...</td>\n",
              "      <td>308.0</td>\n",
              "      <td>NaN</td>\n",
              "      <td>122</td>\n",
              "      <td>Transient-Party</td>\n",
              "      <td>0.0</td>\n",
              "      <td>0</td>\n",
              "      <td>0</td>\n",
              "      <td>Check-Out</td>\n",
              "      <td>2016-01-05</td>\n",
              "      <td>0.0</td>\n",
              "    </tr>\n",
              "  </tbody>\n",
              "</table>\n",
              "<p>5 rows × 33 columns</p>\n",
              "</div>\n",
              "    <div class=\"colab-df-buttons\">\n",
              "\n",
              "  <div class=\"colab-df-container\">\n",
              "    <button class=\"colab-df-convert\" onclick=\"convertToInteractive('df-b9406e9e-ffba-44ef-8c69-ea06391b7d37')\"\n",
              "            title=\"Convert this dataframe to an interactive table.\"\n",
              "            style=\"display:none;\">\n",
              "\n",
              "  <svg xmlns=\"http://www.w3.org/2000/svg\" height=\"24px\" viewBox=\"0 -960 960 960\">\n",
              "    <path d=\"M120-120v-720h720v720H120Zm60-500h600v-160H180v160Zm220 220h160v-160H400v160Zm0 220h160v-160H400v160ZM180-400h160v-160H180v160Zm440 0h160v-160H620v160ZM180-180h160v-160H180v160Zm440 0h160v-160H620v160Z\"/>\n",
              "  </svg>\n",
              "    </button>\n",
              "\n",
              "  <style>\n",
              "    .colab-df-container {\n",
              "      display:flex;\n",
              "      gap: 12px;\n",
              "    }\n",
              "\n",
              "    .colab-df-convert {\n",
              "      background-color: #E8F0FE;\n",
              "      border: none;\n",
              "      border-radius: 50%;\n",
              "      cursor: pointer;\n",
              "      display: none;\n",
              "      fill: #1967D2;\n",
              "      height: 32px;\n",
              "      padding: 0 0 0 0;\n",
              "      width: 32px;\n",
              "    }\n",
              "\n",
              "    .colab-df-convert:hover {\n",
              "      background-color: #E2EBFA;\n",
              "      box-shadow: 0px 1px 2px rgba(60, 64, 67, 0.3), 0px 1px 3px 1px rgba(60, 64, 67, 0.15);\n",
              "      fill: #174EA6;\n",
              "    }\n",
              "\n",
              "    .colab-df-buttons div {\n",
              "      margin-bottom: 4px;\n",
              "    }\n",
              "\n",
              "    [theme=dark] .colab-df-convert {\n",
              "      background-color: #3B4455;\n",
              "      fill: #D2E3FC;\n",
              "    }\n",
              "\n",
              "    [theme=dark] .colab-df-convert:hover {\n",
              "      background-color: #434B5C;\n",
              "      box-shadow: 0px 1px 3px 1px rgba(0, 0, 0, 0.15);\n",
              "      filter: drop-shadow(0px 1px 2px rgba(0, 0, 0, 0.3));\n",
              "      fill: #FFFFFF;\n",
              "    }\n",
              "  </style>\n",
              "\n",
              "    <script>\n",
              "      const buttonEl =\n",
              "        document.querySelector('#df-b9406e9e-ffba-44ef-8c69-ea06391b7d37 button.colab-df-convert');\n",
              "      buttonEl.style.display =\n",
              "        google.colab.kernel.accessAllowed ? 'block' : 'none';\n",
              "\n",
              "      async function convertToInteractive(key) {\n",
              "        const element = document.querySelector('#df-b9406e9e-ffba-44ef-8c69-ea06391b7d37');\n",
              "        const dataTable =\n",
              "          await google.colab.kernel.invokeFunction('convertToInteractive',\n",
              "                                                    [key], {});\n",
              "        if (!dataTable) return;\n",
              "\n",
              "        const docLinkHtml = 'Like what you see? Visit the ' +\n",
              "          '<a target=\"_blank\" href=https://colab.research.google.com/notebooks/data_table.ipynb>data table notebook</a>'\n",
              "          + ' to learn more about interactive tables.';\n",
              "        element.innerHTML = '';\n",
              "        dataTable['output_type'] = 'display_data';\n",
              "        await google.colab.output.renderOutput(dataTable, element);\n",
              "        const docLink = document.createElement('div');\n",
              "        docLink.innerHTML = docLinkHtml;\n",
              "        element.appendChild(docLink);\n",
              "      }\n",
              "    </script>\n",
              "  </div>\n",
              "\n",
              "\n",
              "    <div id=\"df-f7fe9119-0d03-4c72-acb5-b9380f47a804\">\n",
              "      <button class=\"colab-df-quickchart\" onclick=\"quickchart('df-f7fe9119-0d03-4c72-acb5-b9380f47a804')\"\n",
              "                title=\"Suggest charts\"\n",
              "                style=\"display:none;\">\n",
              "\n",
              "<svg xmlns=\"http://www.w3.org/2000/svg\" height=\"24px\"viewBox=\"0 0 24 24\"\n",
              "     width=\"24px\">\n",
              "    <g>\n",
              "        <path d=\"M19 3H5c-1.1 0-2 .9-2 2v14c0 1.1.9 2 2 2h14c1.1 0 2-.9 2-2V5c0-1.1-.9-2-2-2zM9 17H7v-7h2v7zm4 0h-2V7h2v10zm4 0h-2v-4h2v4z\"/>\n",
              "    </g>\n",
              "</svg>\n",
              "      </button>\n",
              "\n",
              "<style>\n",
              "  .colab-df-quickchart {\n",
              "      --bg-color: #E8F0FE;\n",
              "      --fill-color: #1967D2;\n",
              "      --hover-bg-color: #E2EBFA;\n",
              "      --hover-fill-color: #174EA6;\n",
              "      --disabled-fill-color: #AAA;\n",
              "      --disabled-bg-color: #DDD;\n",
              "  }\n",
              "\n",
              "  [theme=dark] .colab-df-quickchart {\n",
              "      --bg-color: #3B4455;\n",
              "      --fill-color: #D2E3FC;\n",
              "      --hover-bg-color: #434B5C;\n",
              "      --hover-fill-color: #FFFFFF;\n",
              "      --disabled-bg-color: #3B4455;\n",
              "      --disabled-fill-color: #666;\n",
              "  }\n",
              "\n",
              "  .colab-df-quickchart {\n",
              "    background-color: var(--bg-color);\n",
              "    border: none;\n",
              "    border-radius: 50%;\n",
              "    cursor: pointer;\n",
              "    display: none;\n",
              "    fill: var(--fill-color);\n",
              "    height: 32px;\n",
              "    padding: 0;\n",
              "    width: 32px;\n",
              "  }\n",
              "\n",
              "  .colab-df-quickchart:hover {\n",
              "    background-color: var(--hover-bg-color);\n",
              "    box-shadow: 0 1px 2px rgba(60, 64, 67, 0.3), 0 1px 3px 1px rgba(60, 64, 67, 0.15);\n",
              "    fill: var(--button-hover-fill-color);\n",
              "  }\n",
              "\n",
              "  .colab-df-quickchart-complete:disabled,\n",
              "  .colab-df-quickchart-complete:disabled:hover {\n",
              "    background-color: var(--disabled-bg-color);\n",
              "    fill: var(--disabled-fill-color);\n",
              "    box-shadow: none;\n",
              "  }\n",
              "\n",
              "  .colab-df-spinner {\n",
              "    border: 2px solid var(--fill-color);\n",
              "    border-color: transparent;\n",
              "    border-bottom-color: var(--fill-color);\n",
              "    animation:\n",
              "      spin 1s steps(1) infinite;\n",
              "  }\n",
              "\n",
              "  @keyframes spin {\n",
              "    0% {\n",
              "      border-color: transparent;\n",
              "      border-bottom-color: var(--fill-color);\n",
              "      border-left-color: var(--fill-color);\n",
              "    }\n",
              "    20% {\n",
              "      border-color: transparent;\n",
              "      border-left-color: var(--fill-color);\n",
              "      border-top-color: var(--fill-color);\n",
              "    }\n",
              "    30% {\n",
              "      border-color: transparent;\n",
              "      border-left-color: var(--fill-color);\n",
              "      border-top-color: var(--fill-color);\n",
              "      border-right-color: var(--fill-color);\n",
              "    }\n",
              "    40% {\n",
              "      border-color: transparent;\n",
              "      border-right-color: var(--fill-color);\n",
              "      border-top-color: var(--fill-color);\n",
              "    }\n",
              "    60% {\n",
              "      border-color: transparent;\n",
              "      border-right-color: var(--fill-color);\n",
              "    }\n",
              "    80% {\n",
              "      border-color: transparent;\n",
              "      border-right-color: var(--fill-color);\n",
              "      border-bottom-color: var(--fill-color);\n",
              "    }\n",
              "    90% {\n",
              "      border-color: transparent;\n",
              "      border-bottom-color: var(--fill-color);\n",
              "    }\n",
              "  }\n",
              "</style>\n",
              "\n",
              "      <script>\n",
              "        async function quickchart(key) {\n",
              "          const quickchartButtonEl =\n",
              "            document.querySelector('#' + key + ' button');\n",
              "          quickchartButtonEl.disabled = true;  // To prevent multiple clicks.\n",
              "          quickchartButtonEl.classList.add('colab-df-spinner');\n",
              "          try {\n",
              "            const charts = await google.colab.kernel.invokeFunction(\n",
              "                'suggestCharts', [key], {});\n",
              "          } catch (error) {\n",
              "            console.error('Error during call to suggestCharts:', error);\n",
              "          }\n",
              "          quickchartButtonEl.classList.remove('colab-df-spinner');\n",
              "          quickchartButtonEl.classList.add('colab-df-quickchart-complete');\n",
              "        }\n",
              "        (() => {\n",
              "          let quickchartButtonEl =\n",
              "            document.querySelector('#df-f7fe9119-0d03-4c72-acb5-b9380f47a804 button');\n",
              "          quickchartButtonEl.style.display =\n",
              "            google.colab.kernel.accessAllowed ? 'block' : 'none';\n",
              "        })();\n",
              "      </script>\n",
              "    </div>\n",
              "\n",
              "    </div>\n",
              "  </div>\n"
            ],
            "application/vnd.google.colaboratory.intrinsic+json": {
              "type": "dataframe"
            }
          },
          "metadata": {}
        }
      ]
    },
    {
      "cell_type": "code",
      "source": [
        "#Negative or zero adr values (unusual but not always invalid)\n",
        "invalid_adr = df[df['adr']<0]\n",
        "print(f\"Rows with negative ADR: {len(invalid_adr)}\")\n",
        "display(invalid_adr.head())"
      ],
      "metadata": {
        "colab": {
          "base_uri": "https://localhost:8080/",
          "height": 165
        },
        "id": "6knuhCIANuD_",
        "outputId": "b42d494b-7d7d-4f09-b2ad-2cc38c7b7e87"
      },
      "execution_count": null,
      "outputs": [
        {
          "output_type": "stream",
          "name": "stdout",
          "text": [
            "Rows with negative ADR: 1\n"
          ]
        },
        {
          "output_type": "display_data",
          "data": {
            "text/plain": [
              "              hotel  is_canceled  lead_time  arrival_date_year  \\\n",
              "14969  Resort Hotel            0        195               2017   \n",
              "\n",
              "      arrival_date_month  arrival_date_week_number  arrival_date_day_of_month  \\\n",
              "14969              March                        10                          5   \n",
              "\n",
              "       stays_in_weekend_nights  stays_in_week_nights  adults  ...  agent  \\\n",
              "14969                        4                     6       2  ...  273.0   \n",
              "\n",
              "       company days_in_waiting_list    customer_type   adr  \\\n",
              "14969      NaN                    0  Transient-Party -6.38   \n",
              "\n",
              "      required_car_parking_spaces  total_of_special_requests  \\\n",
              "14969                           0                          0   \n",
              "\n",
              "       reservation_status  reservation_status_date total_guests  \n",
              "14969           Check-Out               2017-03-15          2.0  \n",
              "\n",
              "[1 rows x 33 columns]"
            ],
            "text/html": [
              "\n",
              "  <div id=\"df-1e819ed4-f9f5-48ea-880b-001db1770eb2\" class=\"colab-df-container\">\n",
              "    <div>\n",
              "<style scoped>\n",
              "    .dataframe tbody tr th:only-of-type {\n",
              "        vertical-align: middle;\n",
              "    }\n",
              "\n",
              "    .dataframe tbody tr th {\n",
              "        vertical-align: top;\n",
              "    }\n",
              "\n",
              "    .dataframe thead th {\n",
              "        text-align: right;\n",
              "    }\n",
              "</style>\n",
              "<table border=\"1\" class=\"dataframe\">\n",
              "  <thead>\n",
              "    <tr style=\"text-align: right;\">\n",
              "      <th></th>\n",
              "      <th>hotel</th>\n",
              "      <th>is_canceled</th>\n",
              "      <th>lead_time</th>\n",
              "      <th>arrival_date_year</th>\n",
              "      <th>arrival_date_month</th>\n",
              "      <th>arrival_date_week_number</th>\n",
              "      <th>arrival_date_day_of_month</th>\n",
              "      <th>stays_in_weekend_nights</th>\n",
              "      <th>stays_in_week_nights</th>\n",
              "      <th>adults</th>\n",
              "      <th>...</th>\n",
              "      <th>agent</th>\n",
              "      <th>company</th>\n",
              "      <th>days_in_waiting_list</th>\n",
              "      <th>customer_type</th>\n",
              "      <th>adr</th>\n",
              "      <th>required_car_parking_spaces</th>\n",
              "      <th>total_of_special_requests</th>\n",
              "      <th>reservation_status</th>\n",
              "      <th>reservation_status_date</th>\n",
              "      <th>total_guests</th>\n",
              "    </tr>\n",
              "  </thead>\n",
              "  <tbody>\n",
              "    <tr>\n",
              "      <th>14969</th>\n",
              "      <td>Resort Hotel</td>\n",
              "      <td>0</td>\n",
              "      <td>195</td>\n",
              "      <td>2017</td>\n",
              "      <td>March</td>\n",
              "      <td>10</td>\n",
              "      <td>5</td>\n",
              "      <td>4</td>\n",
              "      <td>6</td>\n",
              "      <td>2</td>\n",
              "      <td>...</td>\n",
              "      <td>273.0</td>\n",
              "      <td>NaN</td>\n",
              "      <td>0</td>\n",
              "      <td>Transient-Party</td>\n",
              "      <td>-6.38</td>\n",
              "      <td>0</td>\n",
              "      <td>0</td>\n",
              "      <td>Check-Out</td>\n",
              "      <td>2017-03-15</td>\n",
              "      <td>2.0</td>\n",
              "    </tr>\n",
              "  </tbody>\n",
              "</table>\n",
              "<p>1 rows × 33 columns</p>\n",
              "</div>\n",
              "    <div class=\"colab-df-buttons\">\n",
              "\n",
              "  <div class=\"colab-df-container\">\n",
              "    <button class=\"colab-df-convert\" onclick=\"convertToInteractive('df-1e819ed4-f9f5-48ea-880b-001db1770eb2')\"\n",
              "            title=\"Convert this dataframe to an interactive table.\"\n",
              "            style=\"display:none;\">\n",
              "\n",
              "  <svg xmlns=\"http://www.w3.org/2000/svg\" height=\"24px\" viewBox=\"0 -960 960 960\">\n",
              "    <path d=\"M120-120v-720h720v720H120Zm60-500h600v-160H180v160Zm220 220h160v-160H400v160Zm0 220h160v-160H400v160ZM180-400h160v-160H180v160Zm440 0h160v-160H620v160ZM180-180h160v-160H180v160Zm440 0h160v-160H620v160Z\"/>\n",
              "  </svg>\n",
              "    </button>\n",
              "\n",
              "  <style>\n",
              "    .colab-df-container {\n",
              "      display:flex;\n",
              "      gap: 12px;\n",
              "    }\n",
              "\n",
              "    .colab-df-convert {\n",
              "      background-color: #E8F0FE;\n",
              "      border: none;\n",
              "      border-radius: 50%;\n",
              "      cursor: pointer;\n",
              "      display: none;\n",
              "      fill: #1967D2;\n",
              "      height: 32px;\n",
              "      padding: 0 0 0 0;\n",
              "      width: 32px;\n",
              "    }\n",
              "\n",
              "    .colab-df-convert:hover {\n",
              "      background-color: #E2EBFA;\n",
              "      box-shadow: 0px 1px 2px rgba(60, 64, 67, 0.3), 0px 1px 3px 1px rgba(60, 64, 67, 0.15);\n",
              "      fill: #174EA6;\n",
              "    }\n",
              "\n",
              "    .colab-df-buttons div {\n",
              "      margin-bottom: 4px;\n",
              "    }\n",
              "\n",
              "    [theme=dark] .colab-df-convert {\n",
              "      background-color: #3B4455;\n",
              "      fill: #D2E3FC;\n",
              "    }\n",
              "\n",
              "    [theme=dark] .colab-df-convert:hover {\n",
              "      background-color: #434B5C;\n",
              "      box-shadow: 0px 1px 3px 1px rgba(0, 0, 0, 0.15);\n",
              "      filter: drop-shadow(0px 1px 2px rgba(0, 0, 0, 0.3));\n",
              "      fill: #FFFFFF;\n",
              "    }\n",
              "  </style>\n",
              "\n",
              "    <script>\n",
              "      const buttonEl =\n",
              "        document.querySelector('#df-1e819ed4-f9f5-48ea-880b-001db1770eb2 button.colab-df-convert');\n",
              "      buttonEl.style.display =\n",
              "        google.colab.kernel.accessAllowed ? 'block' : 'none';\n",
              "\n",
              "      async function convertToInteractive(key) {\n",
              "        const element = document.querySelector('#df-1e819ed4-f9f5-48ea-880b-001db1770eb2');\n",
              "        const dataTable =\n",
              "          await google.colab.kernel.invokeFunction('convertToInteractive',\n",
              "                                                    [key], {});\n",
              "        if (!dataTable) return;\n",
              "\n",
              "        const docLinkHtml = 'Like what you see? Visit the ' +\n",
              "          '<a target=\"_blank\" href=https://colab.research.google.com/notebooks/data_table.ipynb>data table notebook</a>'\n",
              "          + ' to learn more about interactive tables.';\n",
              "        element.innerHTML = '';\n",
              "        dataTable['output_type'] = 'display_data';\n",
              "        await google.colab.output.renderOutput(dataTable, element);\n",
              "        const docLink = document.createElement('div');\n",
              "        docLink.innerHTML = docLinkHtml;\n",
              "        element.appendChild(docLink);\n",
              "      }\n",
              "    </script>\n",
              "  </div>\n",
              "\n",
              "\n",
              "    </div>\n",
              "  </div>\n"
            ],
            "application/vnd.google.colaboratory.intrinsic+json": {
              "type": "dataframe"
            }
          },
          "metadata": {}
        }
      ]
    },
    {
      "cell_type": "code",
      "source": [
        "#Negative stay durations\n",
        "stay_columns = ['stays_in_weekend_nights','stays_in_week_nights']\n",
        "for col in stay_columns:\n",
        "  print(f\"Rows with negative {col}: {len(df[df[col]<0])}\")"
      ],
      "metadata": {
        "colab": {
          "base_uri": "https://localhost:8080/"
        },
        "id": "RlsqV2FSOUkF",
        "outputId": "4407d63d-8001-4504-ab61-32e9cb4533e4"
      },
      "execution_count": null,
      "outputs": [
        {
          "output_type": "stream",
          "name": "stdout",
          "text": [
            "Rows with negative stays_in_weekend_nights: 0\n",
            "Rows with negative stays_in_week_nights: 0\n"
          ]
        }
      ]
    },
    {
      "cell_type": "markdown",
      "source": [
        "**Phase 2: Data Cleaning Implementation**"
      ],
      "metadata": {
        "id": "74D5CJW3PZww"
      }
    },
    {
      "cell_type": "markdown",
      "source": [
        "**Task 2.1: Handling Missing Values**"
      ],
      "metadata": {
        "id": "I3eKKMw1PdHi"
      }
    },
    {
      "cell_type": "code",
      "source": [
        "#Count of missing values in all columns\n",
        "missing_values = df.isnull().sum()\n",
        "missing_values[missing_values > 0]"
      ],
      "metadata": {
        "colab": {
          "base_uri": "https://localhost:8080/",
          "height": 241
        },
        "id": "U-xprCIoPfiZ",
        "outputId": "bb71a03f-5228-4e70-885a-e210591d8981"
      },
      "execution_count": null,
      "outputs": [
        {
          "output_type": "execute_result",
          "data": {
            "text/plain": [
              "children             4\n",
              "country            488\n",
              "agent            16340\n",
              "company         112593\n",
              "total_guests         4\n",
              "dtype: int64"
            ],
            "text/html": [
              "<div>\n",
              "<style scoped>\n",
              "    .dataframe tbody tr th:only-of-type {\n",
              "        vertical-align: middle;\n",
              "    }\n",
              "\n",
              "    .dataframe tbody tr th {\n",
              "        vertical-align: top;\n",
              "    }\n",
              "\n",
              "    .dataframe thead th {\n",
              "        text-align: right;\n",
              "    }\n",
              "</style>\n",
              "<table border=\"1\" class=\"dataframe\">\n",
              "  <thead>\n",
              "    <tr style=\"text-align: right;\">\n",
              "      <th></th>\n",
              "      <th>0</th>\n",
              "    </tr>\n",
              "  </thead>\n",
              "  <tbody>\n",
              "    <tr>\n",
              "      <th>children</th>\n",
              "      <td>4</td>\n",
              "    </tr>\n",
              "    <tr>\n",
              "      <th>country</th>\n",
              "      <td>488</td>\n",
              "    </tr>\n",
              "    <tr>\n",
              "      <th>agent</th>\n",
              "      <td>16340</td>\n",
              "    </tr>\n",
              "    <tr>\n",
              "      <th>company</th>\n",
              "      <td>112593</td>\n",
              "    </tr>\n",
              "    <tr>\n",
              "      <th>total_guests</th>\n",
              "      <td>4</td>\n",
              "    </tr>\n",
              "  </tbody>\n",
              "</table>\n",
              "</div><br><label><b>dtype:</b> int64</label>"
            ]
          },
          "metadata": {},
          "execution_count": 23
        }
      ]
    },
    {
      "cell_type": "code",
      "source": [
        "#Replace missing values in 'children' with 0\n",
        "df['children'].fillna(0, inplace=True)\n",
        "#Confirm it worked\n",
        "print(f\"Missing values in 'children': {df['children'].isnull().sum()}\")"
      ],
      "metadata": {
        "colab": {
          "base_uri": "https://localhost:8080/"
        },
        "id": "uULBayVoQDhP",
        "outputId": "7e6c9bd1-193d-449d-98ab-fbc625fbaf51"
      },
      "execution_count": null,
      "outputs": [
        {
          "output_type": "stream",
          "name": "stdout",
          "text": [
            "Missing values in 'children': 0\n"
          ]
        }
      ]
    },
    {
      "cell_type": "code",
      "source": [
        "#Country column\n",
        "#Show missing value count\n",
        "missing_country = df['country'].isnull().sum()\n",
        "print(f\"Missing 'country' values:{missing_country}\")"
      ],
      "metadata": {
        "colab": {
          "base_uri": "https://localhost:8080/"
        },
        "id": "2E7xFHzMQwEg",
        "outputId": "04f4b5c2-8b9c-4a38-8fab-0ddc857b7b22"
      },
      "execution_count": null,
      "outputs": [
        {
          "output_type": "stream",
          "name": "stdout",
          "text": [
            "Missing 'country' values:488\n"
          ]
        }
      ]
    },
    {
      "cell_type": "code",
      "source": [
        "# Compare rows with missing country\n",
        "df[df['country'].isnull()].groupby(['hotel','market_segment']).size()"
      ],
      "metadata": {
        "colab": {
          "base_uri": "https://localhost:8080/",
          "height": 460
        },
        "id": "eYEGlU8vRYcY",
        "outputId": "cbc8bf0a-9acd-42b3-90f1-52af32541d9d"
      },
      "execution_count": null,
      "outputs": [
        {
          "output_type": "execute_result",
          "data": {
            "text/plain": [
              "hotel         market_segment\n",
              "City Hotel    Complementary       7\n",
              "              Corporate           1\n",
              "              Direct              1\n",
              "              Groups              1\n",
              "              Offline TA/TO      14\n",
              "Resort Hotel  Complementary       2\n",
              "              Corporate         183\n",
              "              Direct            156\n",
              "              Groups              4\n",
              "              Offline TA/TO      45\n",
              "              Online TA          74\n",
              "dtype: int64"
            ],
            "text/html": [
              "<div>\n",
              "<style scoped>\n",
              "    .dataframe tbody tr th:only-of-type {\n",
              "        vertical-align: middle;\n",
              "    }\n",
              "\n",
              "    .dataframe tbody tr th {\n",
              "        vertical-align: top;\n",
              "    }\n",
              "\n",
              "    .dataframe thead th {\n",
              "        text-align: right;\n",
              "    }\n",
              "</style>\n",
              "<table border=\"1\" class=\"dataframe\">\n",
              "  <thead>\n",
              "    <tr style=\"text-align: right;\">\n",
              "      <th></th>\n",
              "      <th></th>\n",
              "      <th>0</th>\n",
              "    </tr>\n",
              "    <tr>\n",
              "      <th>hotel</th>\n",
              "      <th>market_segment</th>\n",
              "      <th></th>\n",
              "    </tr>\n",
              "  </thead>\n",
              "  <tbody>\n",
              "    <tr>\n",
              "      <th rowspan=\"5\" valign=\"top\">City Hotel</th>\n",
              "      <th>Complementary</th>\n",
              "      <td>7</td>\n",
              "    </tr>\n",
              "    <tr>\n",
              "      <th>Corporate</th>\n",
              "      <td>1</td>\n",
              "    </tr>\n",
              "    <tr>\n",
              "      <th>Direct</th>\n",
              "      <td>1</td>\n",
              "    </tr>\n",
              "    <tr>\n",
              "      <th>Groups</th>\n",
              "      <td>1</td>\n",
              "    </tr>\n",
              "    <tr>\n",
              "      <th>Offline TA/TO</th>\n",
              "      <td>14</td>\n",
              "    </tr>\n",
              "    <tr>\n",
              "      <th rowspan=\"6\" valign=\"top\">Resort Hotel</th>\n",
              "      <th>Complementary</th>\n",
              "      <td>2</td>\n",
              "    </tr>\n",
              "    <tr>\n",
              "      <th>Corporate</th>\n",
              "      <td>183</td>\n",
              "    </tr>\n",
              "    <tr>\n",
              "      <th>Direct</th>\n",
              "      <td>156</td>\n",
              "    </tr>\n",
              "    <tr>\n",
              "      <th>Groups</th>\n",
              "      <td>4</td>\n",
              "    </tr>\n",
              "    <tr>\n",
              "      <th>Offline TA/TO</th>\n",
              "      <td>45</td>\n",
              "    </tr>\n",
              "    <tr>\n",
              "      <th>Online TA</th>\n",
              "      <td>74</td>\n",
              "    </tr>\n",
              "  </tbody>\n",
              "</table>\n",
              "</div><br><label><b>dtype:</b> int64</label>"
            ]
          },
          "metadata": {},
          "execution_count": 26
        }
      ]
    },
    {
      "cell_type": "code",
      "source": [
        "#Fill with mode (most common country) or 'Unknown'\n",
        "#option 1: Fill with most common country\n",
        "most_common_country = df['country'].mode()[0]\n",
        "df['country'].fillna(most_common_country,inplace=True)\n",
        "\n",
        "# Confirm\n",
        "print(f\"Missing values in 'country': {df['country'].isnull().sum()}\")"
      ],
      "metadata": {
        "colab": {
          "base_uri": "https://localhost:8080/"
        },
        "id": "yPQJa4bwR1jE",
        "outputId": "8fdd993b-8dd7-4de8-fb7f-df234f3c9569"
      },
      "execution_count": null,
      "outputs": [
        {
          "output_type": "stream",
          "name": "stdout",
          "text": [
            "Missing values in 'country': 0\n"
          ]
        }
      ]
    },
    {
      "cell_type": "code",
      "source": [
        "#Agent Column – Replace NaN with 0\n",
        "# Fill missing agent with 0 and convert to integer\n",
        "df['agent'].fillna(0, inplace=True)\n",
        "df['agent'] = df['agent'].astype(int)\n",
        "\n",
        "# Confirm\n",
        "print(f\"Missing values in 'agent': {df['agent'].isnull().sum()}\")"
      ],
      "metadata": {
        "colab": {
          "base_uri": "https://localhost:8080/"
        },
        "id": "1accPptiSckq",
        "outputId": "a96dd7d3-0c75-4db9-9a78-9fd6c178881a"
      },
      "execution_count": null,
      "outputs": [
        {
          "output_type": "stream",
          "name": "stdout",
          "text": [
            "Missing values in 'agent': 0\n"
          ]
        }
      ]
    },
    {
      "cell_type": "code",
      "source": [
        "#Company Column – Replace NaN with 0\n",
        "# Fill missing company with 0 and convert to integer\n",
        "df['company'].fillna(0, inplace=True)\n",
        "df['company'] = df['company'].astype(int)\n",
        "\n",
        "# Confirm\n",
        "print(f\"Missing values in 'company': {df['company'].isnull().sum()}\")"
      ],
      "metadata": {
        "colab": {
          "base_uri": "https://localhost:8080/"
        },
        "id": "SA9JcfkySnt7",
        "outputId": "9d141b9d-f8e0-474f-b2b5-c8d7f441b84a"
      },
      "execution_count": null,
      "outputs": [
        {
          "output_type": "stream",
          "name": "stdout",
          "text": [
            "Missing values in 'company': 0\n"
          ]
        }
      ]
    },
    {
      "cell_type": "code",
      "source": [
        "#Final Check: Ensure All Missing Values Are Handled\n",
        "columns_to_check = ['children', 'country', 'agent', 'company']\n",
        "df[columns_to_check].isnull().sum()"
      ],
      "metadata": {
        "colab": {
          "base_uri": "https://localhost:8080/",
          "height": 209
        },
        "id": "xbKwuWa7Sy3_",
        "outputId": "1707297e-92e3-4f2a-fbd7-3afee2ad818b"
      },
      "execution_count": null,
      "outputs": [
        {
          "output_type": "execute_result",
          "data": {
            "text/plain": [
              "children    0\n",
              "country     0\n",
              "agent       0\n",
              "company     0\n",
              "dtype: int64"
            ],
            "text/html": [
              "<div>\n",
              "<style scoped>\n",
              "    .dataframe tbody tr th:only-of-type {\n",
              "        vertical-align: middle;\n",
              "    }\n",
              "\n",
              "    .dataframe tbody tr th {\n",
              "        vertical-align: top;\n",
              "    }\n",
              "\n",
              "    .dataframe thead th {\n",
              "        text-align: right;\n",
              "    }\n",
              "</style>\n",
              "<table border=\"1\" class=\"dataframe\">\n",
              "  <thead>\n",
              "    <tr style=\"text-align: right;\">\n",
              "      <th></th>\n",
              "      <th>0</th>\n",
              "    </tr>\n",
              "  </thead>\n",
              "  <tbody>\n",
              "    <tr>\n",
              "      <th>children</th>\n",
              "      <td>0</td>\n",
              "    </tr>\n",
              "    <tr>\n",
              "      <th>country</th>\n",
              "      <td>0</td>\n",
              "    </tr>\n",
              "    <tr>\n",
              "      <th>agent</th>\n",
              "      <td>0</td>\n",
              "    </tr>\n",
              "    <tr>\n",
              "      <th>company</th>\n",
              "      <td>0</td>\n",
              "    </tr>\n",
              "  </tbody>\n",
              "</table>\n",
              "</div><br><label><b>dtype:</b> int64</label>"
            ]
          },
          "metadata": {},
          "execution_count": 30
        }
      ]
    },
    {
      "cell_type": "markdown",
      "source": [
        "**Task 2.2: Duplicate Detection and Removal**"
      ],
      "metadata": {
        "id": "byPsyJTYTFPb"
      }
    },
    {
      "cell_type": "code",
      "source": [
        "#check for exact duplicates\n",
        "duplicates = df.duplicated()\n",
        "print(f\"Number of exact duplicates: {duplicates.sum()}\")"
      ],
      "metadata": {
        "colab": {
          "base_uri": "https://localhost:8080/"
        },
        "id": "nPy1vD3NTJkp",
        "outputId": "4e47fdb7-0a4b-446a-9729-08971eb2317e"
      },
      "execution_count": null,
      "outputs": [
        {
          "output_type": "stream",
          "name": "stdout",
          "text": [
            "Number of exact duplicates: 32013\n"
          ]
        }
      ]
    },
    {
      "cell_type": "code",
      "source": [
        "#Find near-duplicates (rows that are similar but not identical)\n",
        "subset_cols = df.columns.difference(['assigned_room_type'])\n",
        "near_duplicates = df.duplicated(subset_cols)\n",
        "num_near_duplicates = near_duplicates.sum()\n",
        "print(f\"Number of near-duplicate rows (excluding 'assigned_room_type'): {num_near_duplicates}\")"
      ],
      "metadata": {
        "colab": {
          "base_uri": "https://localhost:8080/"
        },
        "id": "BwTaLaUwTs5P",
        "outputId": "67e04c07-7778-4102-8439-8b8e4a5f2354"
      },
      "execution_count": null,
      "outputs": [
        {
          "output_type": "stream",
          "name": "stdout",
          "text": [
            "Number of near-duplicate rows (excluding 'assigned_room_type'): 33000\n"
          ]
        }
      ]
    },
    {
      "cell_type": "code",
      "source": [
        "#Decide on the removal strategy and implement it\n",
        "# Remove exact duplicates\n",
        "df_cleaned = df.drop_duplicates()\n",
        "\n",
        "# Check new shape\n",
        "print(f\"Original rows: {df.shape[0]}\")\n",
        "print(f\"Rows after removing exact duplicates: {df_cleaned.shape[0]}\")"
      ],
      "metadata": {
        "colab": {
          "base_uri": "https://localhost:8080/"
        },
        "id": "r3YPmWiIVAkE",
        "outputId": "343da2ec-bffc-4fda-be44-2b50c02f2299"
      },
      "execution_count": null,
      "outputs": [
        {
          "output_type": "stream",
          "name": "stdout",
          "text": [
            "Original rows: 119390\n",
            "Rows after removing exact duplicates: 87377\n"
          ]
        }
      ]
    },
    {
      "cell_type": "code",
      "source": [
        "#Document the number of duplicates removed\n",
        "duplicates_removed = df.shape[0] - df_cleaned.shape[0]\n",
        "print(f\"Duplicates removed: {duplicates_removed}\")"
      ],
      "metadata": {
        "colab": {
          "base_uri": "https://localhost:8080/"
        },
        "id": "vjBkK8s7VORW",
        "outputId": "fe6573b1-e5a9-411e-80db-b03e1e6d900a"
      },
      "execution_count": null,
      "outputs": [
        {
          "output_type": "stream",
          "name": "stdout",
          "text": [
            "Duplicates removed: 32013\n"
          ]
        }
      ]
    },
    {
      "cell_type": "code",
      "source": [
        "#Final Step: Replace the original DataFrame\n",
        "df = df_cleaned"
      ],
      "metadata": {
        "id": "RRjS2fI6VmxN"
      },
      "execution_count": null,
      "outputs": []
    },
    {
      "cell_type": "markdown",
      "source": [
        "**Task 2.3: Outlier Detection and Treatment**"
      ],
      "metadata": {
        "id": "1gq2vCBJV5uc"
      }
    },
    {
      "cell_type": "code",
      "source": [
        "columns_to_check = [\n",
        "    'lead_time',\n",
        "    'stays_in_weekend_nights',\n",
        "    'stays_in_week_nights',\n",
        "    'adults',\n",
        "    'children',\n",
        "    'babies',\n",
        "    'adr'\n",
        "]"
      ],
      "metadata": {
        "id": "Xv53P6xWV9mr"
      },
      "execution_count": null,
      "outputs": []
    },
    {
      "cell_type": "code",
      "source": [
        "#Use the IQR method for outlier detection\n",
        "# define a function to detect outliers using the IQR method\n",
        "def detect_outliers_iqr(df, column):\n",
        "    Q1 = df[column].quantile(0.25)\n",
        "    Q3 = df[column].quantile(0.75)\n",
        "    IQR = Q3 - Q1\n",
        "    lower = Q1 - 1.5 * IQR\n",
        "    upper = Q3 + 1.5 * IQR\n",
        "    outliers = df[(df[column] < lower) | (df[column] > upper)]\n",
        "    print(f\"{column}: {len(outliers)} outliers\")\n",
        "    return outliers\n",
        "\n",
        "# detect outliers for each column\n",
        "for col in columns_to_check:\n",
        "    detect_outliers_iqr(df, col)"
      ],
      "metadata": {
        "colab": {
          "base_uri": "https://localhost:8080/"
        },
        "id": "nIvGe0AkWawE",
        "outputId": "9fede091-13c8-44b5-e546-593b41d0aa42"
      },
      "execution_count": null,
      "outputs": [
        {
          "output_type": "stream",
          "name": "stdout",
          "text": [
            "lead_time: 2396 outliers\n",
            "stays_in_weekend_nights: 220 outliers\n",
            "stays_in_week_nights: 1531 outliers\n",
            "adults: 22887 outliers\n",
            "children: 8364 outliers\n",
            "babies: 914 outliers\n",
            "adr: 2488 outliers\n"
          ]
        }
      ]
    },
    {
      "cell_type": "code",
      "source": [
        "#Apply z-score analysis\n",
        "from scipy.stats import zscore\n",
        "\n",
        "#compute z-scores for selected columns\n",
        "z_scores = df[columns_to_check].apply(zscore)\n",
        "outliers_z = (np.abs(z_scores) > 3).sum()\n",
        "\n",
        "#print number of outliers based on z-score\n",
        "print(\"\\nZ-Score Method:\")\n",
        "for col, count in outliers_z.items():\n",
        "  print(f\"{col}: {count} outliers\")"
      ],
      "metadata": {
        "colab": {
          "base_uri": "https://localhost:8080/"
        },
        "id": "89ZyB1RPWoJy",
        "outputId": "827dd4de-4a10-4532-be6c-a2e670c3453b"
      },
      "execution_count": null,
      "outputs": [
        {
          "output_type": "stream",
          "name": "stdout",
          "text": [
            "\n",
            "Z-Score Method:\n",
            "lead_time: 1049 outliers\n",
            "stays_in_weekend_nights: 290 outliers\n",
            "stays_in_week_nights: 1531 outliers\n",
            "adults: 76 outliers\n",
            "children: 3669 outliers\n",
            "babies: 914 outliers\n",
            "adr: 626 outliers\n"
          ]
        }
      ]
    },
    {
      "cell_type": "code",
      "source": [
        "#Create boxplots for visualisation\n",
        "plt.figure(figsize=(15, 12))\n",
        "for i, col in enumerate(columns_to_check):\n",
        "    plt.subplot(4, 2, i + 1)\n",
        "    sns.boxplot(x=df[col], color='lightblue')\n",
        "    plt.title(f'Boxplot of {col}')\n",
        "plt.tight_layout()\n",
        "plt.show()"
      ],
      "metadata": {
        "colab": {
          "base_uri": "https://localhost:8080/",
          "height": 906
        },
        "id": "aKJ5IAA8XuIe",
        "outputId": "d59e8c3c-0ff8-4011-a89e-24f8eee91927"
      },
      "execution_count": null,
      "outputs": [
        {
          "output_type": "display_data",
          "data": {
            "text/plain": [
              "<Figure size 1500x1200 with 7 Axes>"
            ],
            "image/png": "[encoded data removed]"
          },
          "metadata": {}
        }
      ]
    },
    {
      "cell_type": "code",
      "source": [
        "#Decide on treatment strategy (removal, capping, or transformation)\n",
        "def remove_outliers_iqr(df, column):\n",
        "    Q1 = df[column].quantile(0.25)\n",
        "    Q3 = df[column].quantile(0.75)\n",
        "    IQR = Q3 - Q1\n",
        "    lower = Q1 - 1.5 * IQR\n",
        "    upper = Q3 + 1.5 * IQR\n",
        "    before = df.shape[0]\n",
        "    df = df[(df[column] >= lower) & (df[column] <= upper)]\n",
        "    after = df.shape[0]\n",
        "    print(f\"{column}: Removed {before - after} rows\")\n",
        "    return df\n",
        "\n",
        "# Apply to adr and lead_time\n",
        "df = remove_outliers_iqr(df, 'adr')\n",
        "df = remove_outliers_iqr(df, 'lead_time')"
      ],
      "metadata": {
        "colab": {
          "base_uri": "https://localhost:8080/"
        },
        "id": "hP2Q-vawX85c",
        "outputId": "c2b7c148-f5f8-48a2-c20c-f661657c878f"
      },
      "execution_count": null,
      "outputs": [
        {
          "output_type": "stream",
          "name": "stdout",
          "text": [
            "adr: Removed 2488 rows\n",
            "lead_time: Removed 2361 rows\n"
          ]
        }
      ]
    },
    {
      "cell_type": "code",
      "source": [
        "#Capping Strategy\n",
        "def cap_outliers(df, column):\n",
        "    Q1 = df[column].quantile(0.25)\n",
        "    Q3 = df[column].quantile(0.75)\n",
        "    IQR = Q3 - Q1\n",
        "    lower = Q1 - 1.5 * IQR\n",
        "    upper = Q3 + 1.5 * IQR\n",
        "    df[column] = np.where(df[column] > upper, upper,\n",
        "                 np.where(df[column] < lower, lower, df[column]))\n",
        "    return df\n",
        "\n",
        "# Example for 'babies' column\n",
        "df = cap_outliers(df, 'babies')"
      ],
      "metadata": {
        "id": "hc7WaKoyYbr1"
      },
      "execution_count": null,
      "outputs": []
    },
    {
      "cell_type": "markdown",
      "source": [
        "**Task 2.4: Data Inconsistency Fixes**"
      ],
      "metadata": {
        "id": "l-WxsVkHY9HO"
      }
    },
    {
      "cell_type": "code",
      "source": [
        "#Standardise categorical values (e.g., country codes)\n",
        "# Check unique values in key categorical columns\n",
        "categorical_cols = ['country', 'meal', 'market_segment', 'distribution_channel']\n",
        "\n",
        "for col in categorical_cols:\n",
        "    print(f\"\\nUnique values in {col}:\\n\", df[col].unique())"
      ],
      "metadata": {
        "colab": {
          "base_uri": "https://localhost:8080/"
        },
        "id": "aFvTOPvnZBnE",
        "outputId": "eed98741-d3b0-4e99-f72d-c99bd94e0174"
      },
      "execution_count": null,
      "outputs": [
        {
          "output_type": "stream",
          "name": "stdout",
          "text": [
            "\n",
            "Unique values in country:\n",
            " ['GBR' 'PRT' 'USA' 'ESP' 'IRL' 'FRA' 'ROU' 'NOR' 'OMN' 'ARG' 'POL' 'DEU'\n",
            " 'BEL' 'CHE' 'CN' 'GRC' 'ITA' 'NLD' 'DNK' 'RUS' 'SWE' 'AUS' 'EST' 'CZE'\n",
            " 'BRA' 'FIN' 'MOZ' 'BWA' 'LUX' 'SVN' 'ALB' 'IND' 'CHN' 'MEX' 'MAR' 'UKR'\n",
            " 'SMR' 'LVA' 'PRI' 'SRB' 'CHL' 'AUT' 'BLR' 'LTU' 'TUR' 'ZAF' 'AGO' 'ISR'\n",
            " 'CYM' 'ZMB' 'CPV' 'ZWE' 'DZA' 'KOR' 'CRI' 'HUN' 'ARE' 'TUN' 'JAM' 'HRV'\n",
            " 'HKG' 'IRN' 'GEO' 'AND' 'GIB' 'URY' 'JEY' 'CAF' 'CYP' 'COL' 'GGY' 'KWT'\n",
            " 'NGA' 'VEN' 'MDV' 'SVK' 'KAZ' 'IDN' 'LBN' 'PHL' 'SYC' 'AZE' 'BHR' 'NZL'\n",
            " 'THA' 'DOM' 'MKD' 'MYS' 'ARM' 'JPN' 'LKA' 'CUB' 'CMR' 'BIH' 'MUS' 'COM'\n",
            " 'SUR' 'UGA' 'BGR' 'CIV' 'JOR' 'SYR' 'SGP' 'BDI' 'SAU' 'VNM' 'PLW' 'QAT'\n",
            " 'EGY' 'MLT' 'MWI' 'ECU' 'MDG' 'ISL' 'UZB' 'NPL' 'BHS' 'PAK' 'MAC' 'TGO'\n",
            " 'TWN' 'STP' 'SEN' 'PER' 'KNA' 'ETH' 'IRQ' 'HND' 'RWA' 'KHM' 'MCO' 'BGD'\n",
            " 'IMN' 'TJK' 'NIC' 'BEN' 'VGB' 'TZA' 'GAB' 'GHA' 'TMP' 'GLP' 'KEN' 'LIE'\n",
            " 'GNB' 'MNE' 'UMI' 'MYT' 'MMR' 'PAN' 'BFA' 'LBY' 'MLI' 'NAM' 'BOL' 'PRY'\n",
            " 'BRB' 'ABW' 'SLV' 'DMA' 'PYF' 'GUY' 'LCA' 'ATA' 'GTM' 'ASM' 'MRT' 'NCL'\n",
            " 'KIR' 'SDN' 'ATF' 'SLE' 'LAO' 'FRO']\n",
            "\n",
            "Unique values in meal:\n",
            " ['BB' 'FB' 'HB' 'SC']\n",
            "\n",
            "Unique values in market_segment:\n",
            " ['Direct' 'Corporate' 'Online TA' 'Offline TA/TO' 'Complementary' 'Groups'\n",
            " 'Undefined' 'Aviation']\n",
            "\n",
            "Unique values in distribution_channel:\n",
            " ['Direct' 'Corporate' 'TA/TO' 'Undefined' 'GDS']\n"
          ]
        }
      ]
    },
    {
      "cell_type": "code",
      "source": [
        "#Fix date format inconsistencies\n",
        "# Convert 'arrival_date_month' to numeric\n",
        "import datetime\n",
        "\n",
        "df['arrival_date'] = pd.to_datetime(df['arrival_date_year'].astype(str) + '-' +\n",
        "                                     df['arrival_date_month'] + '-' +\n",
        "                                     df['arrival_date_day_of_month'].astype(str),\n",
        "                                     format='%Y-%B-%d', errors='coerce')\n",
        "\n",
        "# Check for any parsing errors\n",
        "print(\"Date parsing errors:\", df['arrival_date'].isnull().sum())"
      ],
      "metadata": {
        "colab": {
          "base_uri": "https://localhost:8080/"
        },
        "id": "0yYBLCeiZplF",
        "outputId": "c9dca47a-9265-4c30-d4cd-522441858177"
      },
      "execution_count": null,
      "outputs": [
        {
          "output_type": "stream",
          "name": "stdout",
          "text": [
            "Date parsing errors: 0\n"
          ]
        }
      ]
    },
    {
      "cell_type": "code",
      "source": [
        "#Handle impossible combinations\n",
        "#identify invalid guest combinations\n",
        "invalid_guests = df[(df['adults']==0) & (df['children']==0) & (df['babies'] ==0)]\n",
        "print(\"Number of impossible guest records:\", len(invalid_guests))\n",
        "#Remove those rows\n",
        "df = df[~((df['adults'] == 0) & (df['children'] == 0) & (df['babies'] == 0))]"
      ],
      "metadata": {
        "colab": {
          "base_uri": "https://localhost:8080/"
        },
        "id": "s3JUG_IvaFTa",
        "outputId": "ee383521-3cd4-4cf8-d160-5823ca5b18fd"
      },
      "execution_count": null,
      "outputs": [
        {
          "output_type": "stream",
          "name": "stdout",
          "text": [
            "Number of impossible guest records: 164\n"
          ]
        }
      ]
    },
    {
      "cell_type": "code",
      "source": [
        "#Validate logical constraints\n",
        "# Remove rows with negative adr\n",
        "invalid_adr = df[df['adr'] < 0]\n",
        "print(\"Negative ADR records:\", len(invalid_adr))\n",
        "df = df[df['adr'] >= 0]\n",
        "\n",
        "# Check for negative stays\n",
        "negative_stays = df[(df['stays_in_weekend_nights'] < 0) | (df['stays_in_week_nights'] < 0)]\n",
        "print(\"Negative stay duration records:\", len(negative_stays))\n",
        "df = df[(df['stays_in_weekend_nights'] >= 0) & (df['stays_in_week_nights'] >= 0)]\n",
        "\n",
        "# Check for negative lead_time\n",
        "df = df[df['lead_time'] >= 0]"
      ],
      "metadata": {
        "colab": {
          "base_uri": "https://localhost:8080/"
        },
        "id": "EpUf6J4oa_vz",
        "outputId": "1c77b22d-68f0-49c0-d447-64e77066f2e7"
      },
      "execution_count": null,
      "outputs": [
        {
          "output_type": "stream",
          "name": "stdout",
          "text": [
            "Negative ADR records: 1\n",
            "Negative stay duration records: 0\n"
          ]
        }
      ]
    },
    {
      "cell_type": "code",
      "source": [
        "# Check shape and data summary after all fixes\n",
        "print(\"Final cleaned dataset shape:\", df.shape)\n",
        "df.info()"
      ],
      "metadata": {
        "colab": {
          "base_uri": "https://localhost:8080/"
        },
        "id": "KNTNLL3fbUHj",
        "outputId": "76eada0d-a93c-4dae-ba82-7b4bf88d8e7e"
      },
      "execution_count": null,
      "outputs": [
        {
          "output_type": "stream",
          "name": "stdout",
          "text": [
            "Final cleaned dataset shape: (82363, 34)\n",
            "<class 'pandas.core.frame.DataFrame'>\n",
            "Index: 82363 entries, 2 to 119389\n",
            "Data columns (total 34 columns):\n",
            " #   Column                          Non-Null Count  Dtype         \n",
            "---  ------                          --------------  -----         \n",
            " 0   hotel                           82363 non-null  object        \n",
            " 1   is_canceled                     82363 non-null  int64         \n",
            " 2   lead_time                       82363 non-null  int64         \n",
            " 3   arrival_date_year               82363 non-null  int64         \n",
            " 4   arrival_date_month              82363 non-null  object        \n",
            " 5   arrival_date_week_number        82363 non-null  int64         \n",
            " 6   arrival_date_day_of_month       82363 non-null  int64         \n",
            " 7   stays_in_weekend_nights         82363 non-null  int64         \n",
            " 8   stays_in_week_nights            82363 non-null  int64         \n",
            " 9   adults                          82363 non-null  int64         \n",
            " 10  children                        82363 non-null  float64       \n",
            " 11  babies                          82363 non-null  float64       \n",
            " 12  meal                            82363 non-null  object        \n",
            " 13  country                         82363 non-null  object        \n",
            " 14  market_segment                  82363 non-null  object        \n",
            " 15  distribution_channel            82363 non-null  object        \n",
            " 16  is_repeated_guest               82363 non-null  int64         \n",
            " 17  previous_cancellations          82363 non-null  int64         \n",
            " 18  previous_bookings_not_canceled  82363 non-null  int64         \n",
            " 19  reserved_room_type              82363 non-null  object        \n",
            " 20  assigned_room_type              82363 non-null  object        \n",
            " 21  booking_changes                 82363 non-null  int64         \n",
            " 22  deposit_type                    82363 non-null  object        \n",
            " 23  agent                           82363 non-null  int64         \n",
            " 24  company                         82363 non-null  int64         \n",
            " 25  days_in_waiting_list            82363 non-null  int64         \n",
            " 26  customer_type                   82363 non-null  object        \n",
            " 27  adr                             82363 non-null  float64       \n",
            " 28  required_car_parking_spaces     82363 non-null  int64         \n",
            " 29  total_of_special_requests       82363 non-null  int64         \n",
            " 30  reservation_status              82363 non-null  object        \n",
            " 31  reservation_status_date         82363 non-null  object        \n",
            " 32  total_guests                    82359 non-null  float64       \n",
            " 33  arrival_date                    82363 non-null  datetime64[ns]\n",
            "dtypes: datetime64[ns](1), float64(4), int64(17), object(12)\n",
            "memory usage: 22.0+ MB\n"
          ]
        }
      ]
    },
    {
      "cell_type": "markdown",
      "source": [
        "**Phase 3: Data Validation and Documentation**"
      ],
      "metadata": {
        "id": "Cvbh6IZ-bzqc"
      }
    },
    {
      "cell_type": "markdown",
      "source": [
        "**Task 3.1: Data Integrity Checks**"
      ],
      "metadata": {
        "id": "VQBhjCgFb-mZ"
      }
    },
    {
      "cell_type": "code",
      "source": [
        "#Verify that total guests (adults + children + babies) > 0\n",
        "# Create a new column for total guests\n",
        "df['total_guests'] = df['adults'] + df['children'] + df['babies']\n",
        "\n",
        "# Check for records with 0 total guests\n",
        "zero_guest_rows = df[df['total_guests'] == 0]\n",
        "print(\"Rows with zero guests:\", len(zero_guest_rows))\n",
        "\n",
        "# Remove those records if any remain\n",
        "df = df[df['total_guests'] > 0]"
      ],
      "metadata": {
        "colab": {
          "base_uri": "https://localhost:8080/"
        },
        "id": "quS2KwhpcCf6",
        "outputId": "dee0b8b0-f37e-452c-c15c-b5cb81046039"
      },
      "execution_count": null,
      "outputs": [
        {
          "output_type": "stream",
          "name": "stdout",
          "text": [
            "Rows with zero guests: 0\n"
          ]
        }
      ]
    },
    {
      "cell_type": "code",
      "source": [
        "#Check that arrival dates are within the expected range\n",
        "# Check min and max of the constructed arrival_date column\n",
        "print(\"Earliest arrival date:\", df['arrival_date'].min())\n",
        "print(\"Latest arrival date:\", df['arrival_date'].max())\n",
        "\n",
        "# Filter out any rows outside the expected year range\n",
        "df = df[(df['arrival_date'].dt.year >= 2015) & (df['arrival_date'].dt.year <= 2017)]"
      ],
      "metadata": {
        "colab": {
          "base_uri": "https://localhost:8080/"
        },
        "id": "861S7aV0cRlU",
        "outputId": "4a1f4a93-cd75-4ab1-afc9-f34581594780"
      },
      "execution_count": null,
      "outputs": [
        {
          "output_type": "stream",
          "name": "stdout",
          "text": [
            "Earliest arrival date: 2015-07-01 00:00:00\n",
            "Latest arrival date: 2017-08-31 00:00:00\n"
          ]
        }
      ]
    },
    {
      "cell_type": "code",
      "source": [
        "#Validate that numerical values are within reasonable ranges\n",
        "# Describe numerical features\n",
        "df[['lead_time', 'stays_in_weekend_nights', 'stays_in_week_nights','adults', 'children', 'babies', 'adr']].describe()"
      ],
      "metadata": {
        "colab": {
          "base_uri": "https://localhost:8080/",
          "height": 300
        },
        "id": "qCE5zGQ1ceMc",
        "outputId": "03cfffe0-4d73-455e-ab17-74fa56f03f80"
      },
      "execution_count": null,
      "outputs": [
        {
          "output_type": "execute_result",
          "data": {
            "text/plain": [
              "          lead_time  stays_in_weekend_nights  stays_in_week_nights  \\\n",
              "count  82363.000000              82363.00000          82363.000000   \n",
              "mean      72.451246                  0.99104              2.579629   \n",
              "std       73.639574                  1.01838              2.018174   \n",
              "min        0.000000                  0.00000              0.000000   \n",
              "25%       11.000000                  0.00000              1.000000   \n",
              "50%       46.000000                  1.00000              2.000000   \n",
              "75%      117.000000                  2.00000              3.000000   \n",
              "max      296.000000                 19.00000             50.000000   \n",
              "\n",
              "             adults      children   babies           adr  \n",
              "count  82363.000000  82363.000000  82363.0  82363.000000  \n",
              "mean       1.865971      0.118245      0.0    102.255364  \n",
              "std        0.503158      0.417110      0.0     45.182067  \n",
              "min        0.000000      0.000000      0.0      0.000000  \n",
              "25%        2.000000      0.000000      0.0     71.865000  \n",
              "50%        2.000000      0.000000      0.0     97.000000  \n",
              "75%        2.000000      0.000000      0.0    130.500000  \n",
              "max        4.000000     10.000000      0.0    227.000000  "
            ],
            "text/html": [
              "\n",
              "  <div id=\"df-81f0e264-dad3-40ae-a8ac-1c478856e484\" class=\"colab-df-container\">\n",
              "    <div>\n",
              "<style scoped>\n",
              "    .dataframe tbody tr th:only-of-type {\n",
              "        vertical-align: middle;\n",
              "    }\n",
              "\n",
              "    .dataframe tbody tr th {\n",
              "        vertical-align: top;\n",
              "    }\n",
              "\n",
              "    .dataframe thead th {\n",
              "        text-align: right;\n",
              "    }\n",
              "</style>\n",
              "<table border=\"1\" class=\"dataframe\">\n",
              "  <thead>\n",
              "    <tr style=\"text-align: right;\">\n",
              "      <th></th>\n",
              "      <th>lead_time</th>\n",
              "      <th>stays_in_weekend_nights</th>\n",
              "      <th>stays_in_week_nights</th>\n",
              "      <th>adults</th>\n",
              "      <th>children</th>\n",
              "      <th>babies</th>\n",
              "      <th>adr</th>\n",
              "    </tr>\n",
              "  </thead>\n",
              "  <tbody>\n",
              "    <tr>\n",
              "      <th>count</th>\n",
              "      <td>82363.000000</td>\n",
              "      <td>82363.00000</td>\n",
              "      <td>82363.000000</td>\n",
              "      <td>82363.000000</td>\n",
              "      <td>82363.000000</td>\n",
              "      <td>82363.0</td>\n",
              "      <td>82363.000000</td>\n",
              "    </tr>\n",
              "    <tr>\n",
              "      <th>mean</th>\n",
              "      <td>72.451246</td>\n",
              "      <td>0.99104</td>\n",
              "      <td>2.579629</td>\n",
              "      <td>1.865971</td>\n",
              "      <td>0.118245</td>\n",
              "      <td>0.0</td>\n",
              "      <td>102.255364</td>\n",
              "    </tr>\n",
              "    <tr>\n",
              "      <th>std</th>\n",
              "      <td>73.639574</td>\n",
              "      <td>1.01838</td>\n",
              "      <td>2.018174</td>\n",
              "      <td>0.503158</td>\n",
              "      <td>0.417110</td>\n",
              "      <td>0.0</td>\n",
              "      <td>45.182067</td>\n",
              "    </tr>\n",
              "    <tr>\n",
              "      <th>min</th>\n",
              "      <td>0.000000</td>\n",
              "      <td>0.00000</td>\n",
              "      <td>0.000000</td>\n",
              "      <td>0.000000</td>\n",
              "      <td>0.000000</td>\n",
              "      <td>0.0</td>\n",
              "      <td>0.000000</td>\n",
              "    </tr>\n",
              "    <tr>\n",
              "      <th>25%</th>\n",
              "      <td>11.000000</td>\n",
              "      <td>0.00000</td>\n",
              "      <td>1.000000</td>\n",
              "      <td>2.000000</td>\n",
              "      <td>0.000000</td>\n",
              "      <td>0.0</td>\n",
              "      <td>71.865000</td>\n",
              "    </tr>\n",
              "    <tr>\n",
              "      <th>50%</th>\n",
              "      <td>46.000000</td>\n",
              "      <td>1.00000</td>\n",
              "      <td>2.000000</td>\n",
              "      <td>2.000000</td>\n",
              "      <td>0.000000</td>\n",
              "      <td>0.0</td>\n",
              "      <td>97.000000</td>\n",
              "    </tr>\n",
              "    <tr>\n",
              "      <th>75%</th>\n",
              "      <td>117.000000</td>\n",
              "      <td>2.00000</td>\n",
              "      <td>3.000000</td>\n",
              "      <td>2.000000</td>\n",
              "      <td>0.000000</td>\n",
              "      <td>0.0</td>\n",
              "      <td>130.500000</td>\n",
              "    </tr>\n",
              "    <tr>\n",
              "      <th>max</th>\n",
              "      <td>296.000000</td>\n",
              "      <td>19.00000</td>\n",
              "      <td>50.000000</td>\n",
              "      <td>4.000000</td>\n",
              "      <td>10.000000</td>\n",
              "      <td>0.0</td>\n",
              "      <td>227.000000</td>\n",
              "    </tr>\n",
              "  </tbody>\n",
              "</table>\n",
              "</div>\n",
              "    <div class=\"colab-df-buttons\">\n",
              "\n",
              "  <div class=\"colab-df-container\">\n",
              "    <button class=\"colab-df-convert\" onclick=\"convertToInteractive('df-81f0e264-dad3-40ae-a8ac-1c478856e484')\"\n",
              "            title=\"Convert this dataframe to an interactive table.\"\n",
              "            style=\"display:none;\">\n",
              "\n",
              "  <svg xmlns=\"http://www.w3.org/2000/svg\" height=\"24px\" viewBox=\"0 -960 960 960\">\n",
              "    <path d=\"M120-120v-720h720v720H120Zm60-500h600v-160H180v160Zm220 220h160v-160H400v160Zm0 220h160v-160H400v160ZM180-400h160v-160H180v160Zm440 0h160v-160H620v160ZM180-180h160v-160H180v160Zm440 0h160v-160H620v160Z\"/>\n",
              "  </svg>\n",
              "    </button>\n",
              "\n",
              "  <style>\n",
              "    .colab-df-container {\n",
              "      display:flex;\n",
              "      gap: 12px;\n",
              "    }\n",
              "\n",
              "    .colab-df-convert {\n",
              "      background-color: #E8F0FE;\n",
              "      border: none;\n",
              "      border-radius: 50%;\n",
              "      cursor: pointer;\n",
              "      display: none;\n",
              "      fill: #1967D2;\n",
              "      height: 32px;\n",
              "      padding: 0 0 0 0;\n",
              "      width: 32px;\n",
              "    }\n",
              "\n",
              "    .colab-df-convert:hover {\n",
              "      background-color: #E2EBFA;\n",
              "      box-shadow: 0px 1px 2px rgba(60, 64, 67, 0.3), 0px 1px 3px 1px rgba(60, 64, 67, 0.15);\n",
              "      fill: #174EA6;\n",
              "    }\n",
              "\n",
              "    .colab-df-buttons div {\n",
              "      margin-bottom: 4px;\n",
              "    }\n",
              "\n",
              "    [theme=dark] .colab-df-convert {\n",
              "      background-color: #3B4455;\n",
              "      fill: #D2E3FC;\n",
              "    }\n",
              "\n",
              "    [theme=dark] .colab-df-convert:hover {\n",
              "      background-color: #434B5C;\n",
              "      box-shadow: 0px 1px 3px 1px rgba(0, 0, 0, 0.15);\n",
              "      filter: drop-shadow(0px 1px 2px rgba(0, 0, 0, 0.3));\n",
              "      fill: #FFFFFF;\n",
              "    }\n",
              "  </style>\n",
              "\n",
              "    <script>\n",
              "      const buttonEl =\n",
              "        document.querySelector('#df-81f0e264-dad3-40ae-a8ac-1c478856e484 button.colab-df-convert');\n",
              "      buttonEl.style.display =\n",
              "        google.colab.kernel.accessAllowed ? 'block' : 'none';\n",
              "\n",
              "      async function convertToInteractive(key) {\n",
              "        const element = document.querySelector('#df-81f0e264-dad3-40ae-a8ac-1c478856e484');\n",
              "        const dataTable =\n",
              "          await google.colab.kernel.invokeFunction('convertToInteractive',\n",
              "                                                    [key], {});\n",
              "        if (!dataTable) return;\n",
              "\n",
              "        const docLinkHtml = 'Like what you see? Visit the ' +\n",
              "          '<a target=\"_blank\" href=https://colab.research.google.com/notebooks/data_table.ipynb>data table notebook</a>'\n",
              "          + ' to learn more about interactive tables.';\n",
              "        element.innerHTML = '';\n",
              "        dataTable['output_type'] = 'display_data';\n",
              "        await google.colab.output.renderOutput(dataTable, element);\n",
              "        const docLink = document.createElement('div');\n",
              "        docLink.innerHTML = docLinkHtml;\n",
              "        element.appendChild(docLink);\n",
              "      }\n",
              "    </script>\n",
              "  </div>\n",
              "\n",
              "\n",
              "    <div id=\"df-3cf6d8d2-02e7-4018-ba35-9ed20db1e4b5\">\n",
              "      <button class=\"colab-df-quickchart\" onclick=\"quickchart('df-3cf6d8d2-02e7-4018-ba35-9ed20db1e4b5')\"\n",
              "                title=\"Suggest charts\"\n",
              "                style=\"display:none;\">\n",
              "\n",
              "<svg xmlns=\"http://www.w3.org/2000/svg\" height=\"24px\"viewBox=\"0 0 24 24\"\n",
              "     width=\"24px\">\n",
              "    <g>\n",
              "        <path d=\"M19 3H5c-1.1 0-2 .9-2 2v14c0 1.1.9 2 2 2h14c1.1 0 2-.9 2-2V5c0-1.1-.9-2-2-2zM9 17H7v-7h2v7zm4 0h-2V7h2v10zm4 0h-2v-4h2v4z\"/>\n",
              "    </g>\n",
              "</svg>\n",
              "      </button>\n",
              "\n",
              "<style>\n",
              "  .colab-df-quickchart {\n",
              "      --bg-color: #E8F0FE;\n",
              "      --fill-color: #1967D2;\n",
              "      --hover-bg-color: #E2EBFA;\n",
              "      --hover-fill-color: #174EA6;\n",
              "      --disabled-fill-color: #AAA;\n",
              "      --disabled-bg-color: #DDD;\n",
              "  }\n",
              "\n",
              "  [theme=dark] .colab-df-quickchart {\n",
              "      --bg-color: #3B4455;\n",
              "      --fill-color: #D2E3FC;\n",
              "      --hover-bg-color: #434B5C;\n",
              "      --hover-fill-color: #FFFFFF;\n",
              "      --disabled-bg-color: #3B4455;\n",
              "      --disabled-fill-color: #666;\n",
              "  }\n",
              "\n",
              "  .colab-df-quickchart {\n",
              "    background-color: var(--bg-color);\n",
              "    border: none;\n",
              "    border-radius: 50%;\n",
              "    cursor: pointer;\n",
              "    display: none;\n",
              "    fill: var(--fill-color);\n",
              "    height: 32px;\n",
              "    padding: 0;\n",
              "    width: 32px;\n",
              "  }\n",
              "\n",
              "  .colab-df-quickchart:hover {\n",
              "    background-color: var(--hover-bg-color);\n",
              "    box-shadow: 0 1px 2px rgba(60, 64, 67, 0.3), 0 1px 3px 1px rgba(60, 64, 67, 0.15);\n",
              "    fill: var(--button-hover-fill-color);\n",
              "  }\n",
              "\n",
              "  .colab-df-quickchart-complete:disabled,\n",
              "  .colab-df-quickchart-complete:disabled:hover {\n",
              "    background-color: var(--disabled-bg-color);\n",
              "    fill: var(--disabled-fill-color);\n",
              "    box-shadow: none;\n",
              "  }\n",
              "\n",
              "  .colab-df-spinner {\n",
              "    border: 2px solid var(--fill-color);\n",
              "    border-color: transparent;\n",
              "    border-bottom-color: var(--fill-color);\n",
              "    animation:\n",
              "      spin 1s steps(1) infinite;\n",
              "  }\n",
              "\n",
              "  @keyframes spin {\n",
              "    0% {\n",
              "      border-color: transparent;\n",
              "      border-bottom-color: var(--fill-color);\n",
              "      border-left-color: var(--fill-color);\n",
              "    }\n",
              "    20% {\n",
              "      border-color: transparent;\n",
              "      border-left-color: var(--fill-color);\n",
              "      border-top-color: var(--fill-color);\n",
              "    }\n",
              "    30% {\n",
              "      border-color: transparent;\n",
              "      border-left-color: var(--fill-color);\n",
              "      border-top-color: var(--fill-color);\n",
              "      border-right-color: var(--fill-color);\n",
              "    }\n",
              "    40% {\n",
              "      border-color: transparent;\n",
              "      border-right-color: var(--fill-color);\n",
              "      border-top-color: var(--fill-color);\n",
              "    }\n",
              "    60% {\n",
              "      border-color: transparent;\n",
              "      border-right-color: var(--fill-color);\n",
              "    }\n",
              "    80% {\n",
              "      border-color: transparent;\n",
              "      border-right-color: var(--fill-color);\n",
              "      border-bottom-color: var(--fill-color);\n",
              "    }\n",
              "    90% {\n",
              "      border-color: transparent;\n",
              "      border-bottom-color: var(--fill-color);\n",
              "    }\n",
              "  }\n",
              "</style>\n",
              "\n",
              "      <script>\n",
              "        async function quickchart(key) {\n",
              "          const quickchartButtonEl =\n",
              "            document.querySelector('#' + key + ' button');\n",
              "          quickchartButtonEl.disabled = true;  // To prevent multiple clicks.\n",
              "          quickchartButtonEl.classList.add('colab-df-spinner');\n",
              "          try {\n",
              "            const charts = await google.colab.kernel.invokeFunction(\n",
              "                'suggestCharts', [key], {});\n",
              "          } catch (error) {\n",
              "            console.error('Error during call to suggestCharts:', error);\n",
              "          }\n",
              "          quickchartButtonEl.classList.remove('colab-df-spinner');\n",
              "          quickchartButtonEl.classList.add('colab-df-quickchart-complete');\n",
              "        }\n",
              "        (() => {\n",
              "          let quickchartButtonEl =\n",
              "            document.querySelector('#df-3cf6d8d2-02e7-4018-ba35-9ed20db1e4b5 button');\n",
              "          quickchartButtonEl.style.display =\n",
              "            google.colab.kernel.accessAllowed ? 'block' : 'none';\n",
              "        })();\n",
              "      </script>\n",
              "    </div>\n",
              "\n",
              "    </div>\n",
              "  </div>\n"
            ],
            "application/vnd.google.colaboratory.intrinsic+json": {
              "type": "dataframe",
              "summary": "{\n  \"name\": \"df[['lead_time', 'stays_in_weekend_nights', 'stays_in_week_nights','adults', 'children', 'babies', 'adr']]\",\n  \"rows\": 8,\n  \"fields\": [\n    {\n      \"column\": \"lead_time\",\n      \"properties\": {\n        \"dtype\": \"number\",\n        \"std\": 29088.747932114187,\n        \"min\": 0.0,\n        \"max\": 82363.0,\n        \"num_unique_values\": 8,\n        \"samples\": [\n          72.45124631205759,\n          46.0,\n          82363.0\n        ],\n        \"semantic_type\": \"\",\n        \"description\": \"\"\n      }\n    },\n    {\n      \"column\": \"stays_in_weekend_nights\",\n      \"properties\": {\n        \"dtype\": \"number\",\n        \"std\": 29118.50595138908,\n        \"min\": 0.0,\n        \"max\": 82363.0,\n        \"num_unique_values\": 7,\n        \"samples\": [\n          82363.0,\n          0.9910396658693831,\n          2.0\n        ],\n        \"semantic_type\": \"\",\n        \"description\": \"\"\n      }\n    },\n    {\n      \"column\": \"stays_in_week_nights\",\n      \"properties\": {\n        \"dtype\": \"number\",\n        \"std\": 29116.662164913818,\n        \"min\": 0.0,\n        \"max\": 82363.0,\n        \"num_unique_values\": 8,\n        \"samples\": [\n          2.5796292024331313,\n          2.0,\n          82363.0\n        ],\n        \"semantic_type\": \"\",\n        \"description\": \"\"\n      }\n    },\n    {\n      \"column\": \"adults\",\n      \"properties\": {\n        \"dtype\": \"number\",\n        \"std\": 29119.09319826751,\n        \"min\": 0.0,\n        \"max\": 82363.0,\n        \"num_unique_values\": 6,\n        \"samples\": [\n          82363.0,\n          1.865971370639729,\n          4.0\n        ],\n        \"semantic_type\": \"\",\n        \"description\": \"\"\n      }\n    },\n    {\n      \"column\": \"children\",\n      \"properties\": {\n        \"dtype\": \"number\",\n        \"std\": 29119.186000514186,\n        \"min\": 0.0,\n        \"max\": 82363.0,\n        \"num_unique_values\": 5,\n        \"samples\": [\n          0.11824484295132523,\n          10.0,\n          0.41711015675099494\n        ],\n        \"semantic_type\": \"\",\n        \"description\": \"\"\n      }\n    },\n    {\n      \"column\": \"babies\",\n      \"properties\": {\n        \"dtype\": \"number\",\n        \"std\": 29119.717909433806,\n        \"min\": 0.0,\n        \"max\": 82363.0,\n        \"num_unique_values\": 2,\n        \"samples\": [\n          0.0,\n          82363.0\n        ],\n        \"semantic_type\": \"\",\n        \"description\": \"\"\n      }\n    },\n    {\n      \"column\": \"adr\",\n      \"properties\": {\n        \"dtype\": \"number\",\n        \"std\": 29085.761316843556,\n        \"min\": 0.0,\n        \"max\": 82363.0,\n        \"num_unique_values\": 8,\n        \"samples\": [\n          102.25536442334544,\n          97.0\n        ],\n        \"semantic_type\": \"\",\n        \"description\": \"\"\n      }\n    }\n  ]\n}"
            }
          },
          "metadata": {},
          "execution_count": 49
        }
      ]
    },
    {
      "cell_type": "code",
      "source": [
        "#Ensure categorical values are from expected sets\n",
        "# Check unique values against expected sets\n",
        "expected_meals = {'BB', 'FB', 'HB', 'SC'}\n",
        "unexpected_meals = set(df['meal'].unique()) - expected_meals\n",
        "print(\"Unexpected meal types:\", unexpected_meals)\n",
        "\n",
        "# Fix if needed (already done previously)\n",
        "df['meal'] = df['meal'].replace('Undefined', 'SC')\n",
        "\n",
        "# Market segment validation\n",
        "expected_segments = {'Online TA', 'Offline TA/TO', 'Direct', 'Groups', 'Corporate', 'Complementary', 'Aviation'}\n",
        "unexpected_segments = set(df['market_segment'].unique()) - expected_segments\n",
        "print(\"Unexpected market segments:\", unexpected_segments)"
      ],
      "metadata": {
        "colab": {
          "base_uri": "https://localhost:8080/"
        },
        "id": "UVK1bNOicvtO",
        "outputId": "b778598f-6a20-4b52-b0a4-9bd15e9fcb01"
      },
      "execution_count": null,
      "outputs": [
        {
          "output_type": "stream",
          "name": "stdout",
          "text": [
            "Unexpected meal types: set()\n",
            "Unexpected market segments: {'Undefined'}\n"
          ]
        }
      ]
    },
    {
      "cell_type": "markdown",
      "source": [
        "**Task 3.3: Final Dataset Preparation**"
      ],
      "metadata": {
        "id": "7XaBZbBvdWoR"
      }
    },
    {
      "cell_type": "code",
      "source": [
        "#Create the final cleaned dataset\n",
        "import pandas as pd\n",
        "# Preview the final cleaned dataset\n",
        "df_cleaned.head()"
      ],
      "metadata": {
        "colab": {
          "base_uri": "https://localhost:8080/",
          "height": 342
        },
        "id": "y4ZHolUTdbyD",
        "outputId": "d3e0f1c1-c8de-4701-e43a-3e6cd49ca3ba"
      },
      "execution_count": null,
      "outputs": [
        {
          "output_type": "execute_result",
          "data": {
            "text/plain": [
              "          hotel  is_canceled  lead_time  arrival_date_year arrival_date_month  \\\n",
              "0  Resort Hotel            0        342               2015               July   \n",
              "1  Resort Hotel            0        737               2015               July   \n",
              "2  Resort Hotel            0          7               2015               July   \n",
              "3  Resort Hotel            0         13               2015               July   \n",
              "4  Resort Hotel            0         14               2015               July   \n",
              "\n",
              "   arrival_date_week_number  arrival_date_day_of_month  \\\n",
              "0                        27                          1   \n",
              "1                        27                          1   \n",
              "2                        27                          1   \n",
              "3                        27                          1   \n",
              "4                        27                          1   \n",
              "\n",
              "   stays_in_weekend_nights  stays_in_week_nights  adults  ...  agent  company  \\\n",
              "0                        0                     0       2  ...      0        0   \n",
              "1                        0                     0       2  ...      0        0   \n",
              "2                        0                     1       1  ...      0        0   \n",
              "3                        0                     1       1  ...    304        0   \n",
              "4                        0                     2       2  ...    240        0   \n",
              "\n",
              "  days_in_waiting_list customer_type   adr required_car_parking_spaces  \\\n",
              "0                    0     Transient   0.0                           0   \n",
              "1                    0     Transient   0.0                           0   \n",
              "2                    0     Transient  75.0                           0   \n",
              "3                    0     Transient  75.0                           0   \n",
              "4                    0     Transient  98.0                           0   \n",
              "\n",
              "   total_of_special_requests  reservation_status  reservation_status_date  \\\n",
              "0                          0           Check-Out               2015-07-01   \n",
              "1                          0           Check-Out               2015-07-01   \n",
              "2                          0           Check-Out               2015-07-02   \n",
              "3                          0           Check-Out               2015-07-02   \n",
              "4                          1           Check-Out               2015-07-03   \n",
              "\n",
              "  total_guests  \n",
              "0          2.0  \n",
              "1          2.0  \n",
              "2          1.0  \n",
              "3          1.0  \n",
              "4          2.0  \n",
              "\n",
              "[5 rows x 33 columns]"
            ],
            "text/html": [
              "\n",
              "  <div id=\"df-654bcc6f-1012-4471-bd95-8d23be5059f5\" class=\"colab-df-container\">\n",
              "    <div>\n",
              "<style scoped>\n",
              "    .dataframe tbody tr th:only-of-type {\n",
              "        vertical-align: middle;\n",
              "    }\n",
              "\n",
              "    .dataframe tbody tr th {\n",
              "        vertical-align: top;\n",
              "    }\n",
              "\n",
              "    .dataframe thead th {\n",
              "        text-align: right;\n",
              "    }\n",
              "</style>\n",
              "<table border=\"1\" class=\"dataframe\">\n",
              "  <thead>\n",
              "    <tr style=\"text-align: right;\">\n",
              "      <th></th>\n",
              "      <th>hotel</th>\n",
              "      <th>is_canceled</th>\n",
              "      <th>lead_time</th>\n",
              "      <th>arrival_date_year</th>\n",
              "      <th>arrival_date_month</th>\n",
              "      <th>arrival_date_week_number</th>\n",
              "      <th>arrival_date_day_of_month</th>\n",
              "      <th>stays_in_weekend_nights</th>\n",
              "      <th>stays_in_week_nights</th>\n",
              "      <th>adults</th>\n",
              "      <th>...</th>\n",
              "      <th>agent</th>\n",
              "      <th>company</th>\n",
              "      <th>days_in_waiting_list</th>\n",
              "      <th>customer_type</th>\n",
              "      <th>adr</th>\n",
              "      <th>required_car_parking_spaces</th>\n",
              "      <th>total_of_special_requests</th>\n",
              "      <th>reservation_status</th>\n",
              "      <th>reservation_status_date</th>\n",
              "      <th>total_guests</th>\n",
              "    </tr>\n",
              "  </thead>\n",
              "  <tbody>\n",
              "    <tr>\n",
              "      <th>0</th>\n",
              "      <td>Resort Hotel</td>\n",
              "      <td>0</td>\n",
              "      <td>342</td>\n",
              "      <td>2015</td>\n",
              "      <td>July</td>\n",
              "      <td>27</td>\n",
              "      <td>1</td>\n",
              "      <td>0</td>\n",
              "      <td>0</td>\n",
              "      <td>2</td>\n",
              "      <td>...</td>\n",
              "      <td>0</td>\n",
              "      <td>0</td>\n",
              "      <td>0</td>\n",
              "      <td>Transient</td>\n",
              "      <td>0.0</td>\n",
              "      <td>0</td>\n",
              "      <td>0</td>\n",
              "      <td>Check-Out</td>\n",
              "      <td>2015-07-01</td>\n",
              "      <td>2.0</td>\n",
              "    </tr>\n",
              "    <tr>\n",
              "      <th>1</th>\n",
              "      <td>Resort Hotel</td>\n",
              "      <td>0</td>\n",
              "      <td>737</td>\n",
              "      <td>2015</td>\n",
              "      <td>July</td>\n",
              "      <td>27</td>\n",
              "      <td>1</td>\n",
              "      <td>0</td>\n",
              "      <td>0</td>\n",
              "      <td>2</td>\n",
              "      <td>...</td>\n",
              "      <td>0</td>\n",
              "      <td>0</td>\n",
              "      <td>0</td>\n",
              "      <td>Transient</td>\n",
              "      <td>0.0</td>\n",
              "      <td>0</td>\n",
              "      <td>0</td>\n",
              "      <td>Check-Out</td>\n",
              "      <td>2015-07-01</td>\n",
              "      <td>2.0</td>\n",
              "    </tr>\n",
              "    <tr>\n",
              "      <th>2</th>\n",
              "      <td>Resort Hotel</td>\n",
              "      <td>0</td>\n",
              "      <td>7</td>\n",
              "      <td>2015</td>\n",
              "      <td>July</td>\n",
              "      <td>27</td>\n",
              "      <td>1</td>\n",
              "      <td>0</td>\n",
              "      <td>1</td>\n",
              "      <td>1</td>\n",
              "      <td>...</td>\n",
              "      <td>0</td>\n",
              "      <td>0</td>\n",
              "      <td>0</td>\n",
              "      <td>Transient</td>\n",
              "      <td>75.0</td>\n",
              "      <td>0</td>\n",
              "      <td>0</td>\n",
              "      <td>Check-Out</td>\n",
              "      <td>2015-07-02</td>\n",
              "      <td>1.0</td>\n",
              "    </tr>\n",
              "    <tr>\n",
              "      <th>3</th>\n",
              "      <td>Resort Hotel</td>\n",
              "      <td>0</td>\n",
              "      <td>13</td>\n",
              "      <td>2015</td>\n",
              "      <td>July</td>\n",
              "      <td>27</td>\n",
              "      <td>1</td>\n",
              "      <td>0</td>\n",
              "      <td>1</td>\n",
              "      <td>1</td>\n",
              "      <td>...</td>\n",
              "      <td>304</td>\n",
              "      <td>0</td>\n",
              "      <td>0</td>\n",
              "      <td>Transient</td>\n",
              "      <td>75.0</td>\n",
              "      <td>0</td>\n",
              "      <td>0</td>\n",
              "      <td>Check-Out</td>\n",
              "      <td>2015-07-02</td>\n",
              "      <td>1.0</td>\n",
              "    </tr>\n",
              "    <tr>\n",
              "      <th>4</th>\n",
              "      <td>Resort Hotel</td>\n",
              "      <td>0</td>\n",
              "      <td>14</td>\n",
              "      <td>2015</td>\n",
              "      <td>July</td>\n",
              "      <td>27</td>\n",
              "      <td>1</td>\n",
              "      <td>0</td>\n",
              "      <td>2</td>\n",
              "      <td>2</td>\n",
              "      <td>...</td>\n",
              "      <td>240</td>\n",
              "      <td>0</td>\n",
              "      <td>0</td>\n",
              "      <td>Transient</td>\n",
              "      <td>98.0</td>\n",
              "      <td>0</td>\n",
              "      <td>1</td>\n",
              "      <td>Check-Out</td>\n",
              "      <td>2015-07-03</td>\n",
              "      <td>2.0</td>\n",
              "    </tr>\n",
              "  </tbody>\n",
              "</table>\n",
              "<p>5 rows × 33 columns</p>\n",
              "</div>\n",
              "    <div class=\"colab-df-buttons\">\n",
              "\n",
              "  <div class=\"colab-df-container\">\n",
              "    <button class=\"colab-df-convert\" onclick=\"convertToInteractive('df-654bcc6f-1012-4471-bd95-8d23be5059f5')\"\n",
              "            title=\"Convert this dataframe to an interactive table.\"\n",
              "            style=\"display:none;\">\n",
              "\n",
              "  <svg xmlns=\"http://www.w3.org/2000/svg\" height=\"24px\" viewBox=\"0 -960 960 960\">\n",
              "    <path d=\"M120-120v-720h720v720H120Zm60-500h600v-160H180v160Zm220 220h160v-160H400v160Zm0 220h160v-160H400v160ZM180-400h160v-160H180v160Zm440 0h160v-160H620v160ZM180-180h160v-160H180v160Zm440 0h160v-160H620v160Z\"/>\n",
              "  </svg>\n",
              "    </button>\n",
              "\n",
              "  <style>\n",
              "    .colab-df-container {\n",
              "      display:flex;\n",
              "      gap: 12px;\n",
              "    }\n",
              "\n",
              "    .colab-df-convert {\n",
              "      background-color: #E8F0FE;\n",
              "      border: none;\n",
              "      border-radius: 50%;\n",
              "      cursor: pointer;\n",
              "      display: none;\n",
              "      fill: #1967D2;\n",
              "      height: 32px;\n",
              "      padding: 0 0 0 0;\n",
              "      width: 32px;\n",
              "    }\n",
              "\n",
              "    .colab-df-convert:hover {\n",
              "      background-color: #E2EBFA;\n",
              "      box-shadow: 0px 1px 2px rgba(60, 64, 67, 0.3), 0px 1px 3px 1px rgba(60, 64, 67, 0.15);\n",
              "      fill: #174EA6;\n",
              "    }\n",
              "\n",
              "    .colab-df-buttons div {\n",
              "      margin-bottom: 4px;\n",
              "    }\n",
              "\n",
              "    [theme=dark] .colab-df-convert {\n",
              "      background-color: #3B4455;\n",
              "      fill: #D2E3FC;\n",
              "    }\n",
              "\n",
              "    [theme=dark] .colab-df-convert:hover {\n",
              "      background-color: #434B5C;\n",
              "      box-shadow: 0px 1px 3px 1px rgba(0, 0, 0, 0.15);\n",
              "      filter: drop-shadow(0px 1px 2px rgba(0, 0, 0, 0.3));\n",
              "      fill: #FFFFFF;\n",
              "    }\n",
              "  </style>\n",
              "\n",
              "    <script>\n",
              "      const buttonEl =\n",
              "        document.querySelector('#df-654bcc6f-1012-4471-bd95-8d23be5059f5 button.colab-df-convert');\n",
              "      buttonEl.style.display =\n",
              "        google.colab.kernel.accessAllowed ? 'block' : 'none';\n",
              "\n",
              "      async function convertToInteractive(key) {\n",
              "        const element = document.querySelector('#df-654bcc6f-1012-4471-bd95-8d23be5059f5');\n",
              "        const dataTable =\n",
              "          await google.colab.kernel.invokeFunction('convertToInteractive',\n",
              "                                                    [key], {});\n",
              "        if (!dataTable) return;\n",
              "\n",
              "        const docLinkHtml = 'Like what you see? Visit the ' +\n",
              "          '<a target=\"_blank\" href=https://colab.research.google.com/notebooks/data_table.ipynb>data table notebook</a>'\n",
              "          + ' to learn more about interactive tables.';\n",
              "        element.innerHTML = '';\n",
              "        dataTable['output_type'] = 'display_data';\n",
              "        await google.colab.output.renderOutput(dataTable, element);\n",
              "        const docLink = document.createElement('div');\n",
              "        docLink.innerHTML = docLinkHtml;\n",
              "        element.appendChild(docLink);\n",
              "      }\n",
              "    </script>\n",
              "  </div>\n",
              "\n",
              "\n",
              "    <div id=\"df-f6e506ec-d417-49cd-b4f4-d0a23e8d9d1a\">\n",
              "      <button class=\"colab-df-quickchart\" onclick=\"quickchart('df-f6e506ec-d417-49cd-b4f4-d0a23e8d9d1a')\"\n",
              "                title=\"Suggest charts\"\n",
              "                style=\"display:none;\">\n",
              "\n",
              "<svg xmlns=\"http://www.w3.org/2000/svg\" height=\"24px\"viewBox=\"0 0 24 24\"\n",
              "     width=\"24px\">\n",
              "    <g>\n",
              "        <path d=\"M19 3H5c-1.1 0-2 .9-2 2v14c0 1.1.9 2 2 2h14c1.1 0 2-.9 2-2V5c0-1.1-.9-2-2-2zM9 17H7v-7h2v7zm4 0h-2V7h2v10zm4 0h-2v-4h2v4z\"/>\n",
              "    </g>\n",
              "</svg>\n",
              "      </button>\n",
              "\n",
              "<style>\n",
              "  .colab-df-quickchart {\n",
              "      --bg-color: #E8F0FE;\n",
              "      --fill-color: #1967D2;\n",
              "      --hover-bg-color: #E2EBFA;\n",
              "      --hover-fill-color: #174EA6;\n",
              "      --disabled-fill-color: #AAA;\n",
              "      --disabled-bg-color: #DDD;\n",
              "  }\n",
              "\n",
              "  [theme=dark] .colab-df-quickchart {\n",
              "      --bg-color: #3B4455;\n",
              "      --fill-color: #D2E3FC;\n",
              "      --hover-bg-color: #434B5C;\n",
              "      --hover-fill-color: #FFFFFF;\n",
              "      --disabled-bg-color: #3B4455;\n",
              "      --disabled-fill-color: #666;\n",
              "  }\n",
              "\n",
              "  .colab-df-quickchart {\n",
              "    background-color: var(--bg-color);\n",
              "    border: none;\n",
              "    border-radius: 50%;\n",
              "    cursor: pointer;\n",
              "    display: none;\n",
              "    fill: var(--fill-color);\n",
              "    height: 32px;\n",
              "    padding: 0;\n",
              "    width: 32px;\n",
              "  }\n",
              "\n",
              "  .colab-df-quickchart:hover {\n",
              "    background-color: var(--hover-bg-color);\n",
              "    box-shadow: 0 1px 2px rgba(60, 64, 67, 0.3), 0 1px 3px 1px rgba(60, 64, 67, 0.15);\n",
              "    fill: var(--button-hover-fill-color);\n",
              "  }\n",
              "\n",
              "  .colab-df-quickchart-complete:disabled,\n",
              "  .colab-df-quickchart-complete:disabled:hover {\n",
              "    background-color: var(--disabled-bg-color);\n",
              "    fill: var(--disabled-fill-color);\n",
              "    box-shadow: none;\n",
              "  }\n",
              "\n",
              "  .colab-df-spinner {\n",
              "    border: 2px solid var(--fill-color);\n",
              "    border-color: transparent;\n",
              "    border-bottom-color: var(--fill-color);\n",
              "    animation:\n",
              "      spin 1s steps(1) infinite;\n",
              "  }\n",
              "\n",
              "  @keyframes spin {\n",
              "    0% {\n",
              "      border-color: transparent;\n",
              "      border-bottom-color: var(--fill-color);\n",
              "      border-left-color: var(--fill-color);\n",
              "    }\n",
              "    20% {\n",
              "      border-color: transparent;\n",
              "      border-left-color: var(--fill-color);\n",
              "      border-top-color: var(--fill-color);\n",
              "    }\n",
              "    30% {\n",
              "      border-color: transparent;\n",
              "      border-left-color: var(--fill-color);\n",
              "      border-top-color: var(--fill-color);\n",
              "      border-right-color: var(--fill-color);\n",
              "    }\n",
              "    40% {\n",
              "      border-color: transparent;\n",
              "      border-right-color: var(--fill-color);\n",
              "      border-top-color: var(--fill-color);\n",
              "    }\n",
              "    60% {\n",
              "      border-color: transparent;\n",
              "      border-right-color: var(--fill-color);\n",
              "    }\n",
              "    80% {\n",
              "      border-color: transparent;\n",
              "      border-right-color: var(--fill-color);\n",
              "      border-bottom-color: var(--fill-color);\n",
              "    }\n",
              "    90% {\n",
              "      border-color: transparent;\n",
              "      border-bottom-color: var(--fill-color);\n",
              "    }\n",
              "  }\n",
              "</style>\n",
              "\n",
              "      <script>\n",
              "        async function quickchart(key) {\n",
              "          const quickchartButtonEl =\n",
              "            document.querySelector('#' + key + ' button');\n",
              "          quickchartButtonEl.disabled = true;  // To prevent multiple clicks.\n",
              "          quickchartButtonEl.classList.add('colab-df-spinner');\n",
              "          try {\n",
              "            const charts = await google.colab.kernel.invokeFunction(\n",
              "                'suggestCharts', [key], {});\n",
              "          } catch (error) {\n",
              "            console.error('Error during call to suggestCharts:', error);\n",
              "          }\n",
              "          quickchartButtonEl.classList.remove('colab-df-spinner');\n",
              "          quickchartButtonEl.classList.add('colab-df-quickchart-complete');\n",
              "        }\n",
              "        (() => {\n",
              "          let quickchartButtonEl =\n",
              "            document.querySelector('#df-f6e506ec-d417-49cd-b4f4-d0a23e8d9d1a button');\n",
              "          quickchartButtonEl.style.display =\n",
              "            google.colab.kernel.accessAllowed ? 'block' : 'none';\n",
              "        })();\n",
              "      </script>\n",
              "    </div>\n",
              "\n",
              "    </div>\n",
              "  </div>\n"
            ],
            "application/vnd.google.colaboratory.intrinsic+json": {
              "type": "dataframe",
              "variable_name": "df_cleaned"
            }
          },
          "metadata": {},
          "execution_count": 51
        }
      ]
    },
    {
      "cell_type": "code",
      "source": [
        "#Export to CSV with an appropriate naming convention\n",
        "df_cleaned.to_csv('hotel_bookings_cleaned.csv', index=False)\n",
        "from google.colab import files\n",
        "files.download('hotel_bookings_cleaned.csv')"
      ],
      "metadata": {
        "colab": {
          "base_uri": "https://localhost:8080/",
          "height": 17
        },
        "id": "Y689HxEedtqj",
        "outputId": "bc474427-c5a9-4f06-9af1-3e130b2b6c46"
      },
      "execution_count": null,
      "outputs": [
        {
          "output_type": "display_data",
          "data": {
            "text/plain": [
              "<IPython.core.display.Javascript object>"
            ],
            "application/javascript": [
              "\n",
              "    async function download(id, filename, size) {\n",
              "      if (!google.colab.kernel.accessAllowed) {\n",
              "        return;\n",
              "      }\n",
              "      const div = document.createElement('div');\n",
              "      const label = document.createElement('label');\n",
              "      label.textContent = `Downloading \"${filename}\": `;\n",
              "      div.appendChild(label);\n",
              "      const progress = document.createElement('progress');\n",
              "      progress.max = size;\n",
              "      div.appendChild(progress);\n",
              "      document.body.appendChild(div);\n",
              "\n",
              "      const buffers = [];\n",
              "      let downloaded = 0;\n",
              "\n",
              "      const channel = await google.colab.kernel.comms.open(id);\n",
              "      // Send a message to notify the kernel that we're ready.\n",
              "      channel.send({})\n",
              "\n",
              "      for await (const message of channel.messages) {\n",
              "        // Send a message to notify the kernel that we're ready.\n",
              "        channel.send({})\n",
              "        if (message.buffers) {\n",
              "          for (const buffer of message.buffers) {\n",
              "            buffers.push(buffer);\n",
              "            downloaded += buffer.byteLength;\n",
              "            progress.value = downloaded;\n",
              "          }\n",
              "        }\n",
              "      }\n",
              "      const blob = new Blob(buffers, {type: 'application/binary'});\n",
              "      const a = document.createElement('a');\n",
              "      a.href = window.URL.createObjectURL(blob);\n",
              "      a.download = filename;\n",
              "      div.appendChild(a);\n",
              "      a.click();\n",
              "      div.remove();\n",
              "    }\n",
              "  "
            ]
          },
          "metadata": {}
        },
        {
          "output_type": "display_data",
          "data": {
            "text/plain": [
              "<IPython.core.display.Javascript object>"
            ],
            "application/javascript": [
              "download(\"download_3ac92936-6051-4533-81d5-7630e8a187be\", \"hotel_bookings_cleaned.csv\", 12653499)"
            ]
          },
          "metadata": {}
        }
      ]
    },
    {
      "cell_type": "markdown",
      "source": [
        "**After Cleaning**"
      ],
      "metadata": {
        "id": "gkzZxF2pamWY"
      }
    },
    {
      "cell_type": "code",
      "source": [
        "df_cleaned.shape"
      ],
      "metadata": {
        "colab": {
          "base_uri": "https://localhost:8080/"
        },
        "id": "_MtRSTG4Zufn",
        "outputId": "87df2bab-6f76-49a0-b574-99d75339f4d2"
      },
      "execution_count": null,
      "outputs": [
        {
          "output_type": "execute_result",
          "data": {
            "text/plain": [
              "(87377, 33)"
            ]
          },
          "metadata": {},
          "execution_count": 52
        }
      ]
    },
    {
      "cell_type": "code",
      "source": [
        "#Count of Duplicates Removed\n",
        "before = df.shape[0]  # original row count\n",
        "df_cleaned = df.drop_duplicates()\n",
        "after = df_cleaned.shape[0]\n",
        "duplicates_removed = before - after\n",
        "print(\"Duplicates removed:\", duplicates_removed)"
      ],
      "metadata": {
        "colab": {
          "base_uri": "https://localhost:8080/"
        },
        "id": "1nrl1UJWZxl_",
        "outputId": "714cdd43-22f6-4925-b82b-b405d37cdd68"
      },
      "execution_count": null,
      "outputs": [
        {
          "output_type": "stream",
          "name": "stdout",
          "text": [
            "Duplicates removed: 7\n"
          ]
        }
      ]
    },
    {
      "cell_type": "code",
      "source": [
        "df_cleaned.isnull().sum().sum() #Check Missing Values Remaining"
      ],
      "metadata": {
        "colab": {
          "base_uri": "https://localhost:8080/"
        },
        "id": "Guspqdn0Z7RM",
        "outputId": "64dfc002-ee09-4e90-914a-650f61cd3ea7"
      },
      "execution_count": null,
      "outputs": [
        {
          "output_type": "execute_result",
          "data": {
            "text/plain": [
              "np.int64(0)"
            ]
          },
          "metadata": {},
          "execution_count": 54
        }
      ]
    },
    {
      "cell_type": "code",
      "source": [
        "#Count of Invalid Rows Removed\n",
        "df_cleaned = df_cleaned[~((df_cleaned['adults'] == 0) &\n",
        "                          (df_cleaned['children'] == 0) &\n",
        "                          (df_cleaned['babies'] == 0))]"
      ],
      "metadata": {
        "id": "OAjjw5jMZ9Zw"
      },
      "execution_count": null,
      "outputs": []
    },
    {
      "cell_type": "code",
      "source": [
        "invalid_rows_removed = before - df_cleaned.shape[0]\n",
        "print(\"Invalid rows removed:\", invalid_rows_removed)"
      ],
      "metadata": {
        "colab": {
          "base_uri": "https://localhost:8080/"
        },
        "id": "FU5NbQg-aQ2W",
        "outputId": "3693d656-399e-43b0-eba5-664046d8845a"
      },
      "execution_count": null,
      "outputs": [
        {
          "output_type": "stream",
          "name": "stdout",
          "text": [
            "Invalid rows removed: 7\n"
          ]
        }
      ]
    }
  ]
}